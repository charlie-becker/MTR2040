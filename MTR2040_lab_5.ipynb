{
 "cells": [
  {
   "cell_type": "markdown",
   "id": "b507975e-bb70-404f-944c-f32cbd940f4f",
   "metadata": {},
   "source": [
    "# MTR 2040 Lab 5\n",
    "## Name: your name here\n",
    "## Date: insert date here\n",
    "\n",
    "The main purpose of this lab is continue exploring pandas dataframes and some more advanced plotting techniques. We'll also cover the dictionary datatype and \"f\" strings."
   ]
  },
  {
   "cell_type": "code",
   "execution_count": 32,
   "id": "5420f737-4d07-4de1-a12b-debeecb0a063",
   "metadata": {},
   "outputs": [],
   "source": [
    "import pandas as pd\n",
    "import matplotlib.pyplot as plt\n",
    "import numpy as np"
   ]
  },
  {
   "cell_type": "markdown",
   "id": "3a5cd157-fee0-44b2-9b73-7db45131c5ce",
   "metadata": {},
   "source": [
    "## \"f\" strings\n",
    "\n",
    "\"f\" strings are a way to easily incorporate variables / numerics, etc into a string format, often embedded a part of a long string. \"f\" strings look exactly the same as a regular string (encased with single or double quotations), but have the letter `f` in front of the first quote."
   ]
  },
  {
   "cell_type": "code",
   "execution_count": 33,
   "id": "a73780f7-90fd-452d-ba61-61eade1d0bdb",
   "metadata": {},
   "outputs": [
    {
     "name": "stdout",
     "output_type": "stream",
     "text": [
      "my_string\n",
      "my_string\n"
     ]
    }
   ],
   "source": [
    "print(\"my_string\")\n",
    "\n",
    "print(f\"my_string\") # note the f in front of the quotation mark"
   ]
  },
  {
   "cell_type": "markdown",
   "id": "432e9671-9695-436e-bd9a-3ae05a60de46",
   "metadata": {},
   "source": [
    "The usefulness of \"f\" strings comes with being able to add other variables into the string and combine it as a single string. This is done by wrapping the numeric / variable, etc inside curly braces `{}` within the f-string."
   ]
  },
  {
   "cell_type": "code",
   "execution_count": 34,
   "id": "d5c61159-717a-49b4-a483-0ee30c773282",
   "metadata": {},
   "outputs": [
    {
     "name": "stdout",
     "output_type": "stream",
     "text": [
      "The value of x is 34356\n",
      "The value of x is 34356\n"
     ]
    }
   ],
   "source": [
    "x = 34356\n",
    "\n",
    "print(\"The value of x is\", x) # how to do it with a regular string\n",
    "print(f\"The value of x is {x}\") # with \"f\" string"
   ]
  },
  {
   "cell_type": "markdown",
   "id": "ba2de0cc-dd66-4e8b-bf0b-5c2f11026703",
   "metadata": {},
   "source": [
    "Here, in the case of just printing a variable, it doesn't make much of a difference, but if we need the full string, such as a file path, it is more convienient. Here's a quick example generating some fake file names with a f-string."
   ]
  },
  {
   "cell_type": "code",
   "execution_count": 35,
   "id": "95f3ff11-ed93-42b8-b979-cab299cc0767",
   "metadata": {},
   "outputs": [
    {
     "data": {
      "text/plain": [
       "['/some_fake_file_path/data_2023-02-09-14_0000.csv',\n",
       " '/some_fake_file_path/data_2023-02-09-15_0000.csv',\n",
       " '/some_fake_file_path/data_2023-02-09-16_0000.csv',\n",
       " '/some_fake_file_path/data_2023-02-09-17_0000.csv',\n",
       " '/some_fake_file_path/data_2023-02-09-18_0000.csv',\n",
       " '/some_fake_file_path/data_2023-02-09-19_0000.csv',\n",
       " '/some_fake_file_path/data_2023-02-09-20_0000.csv',\n",
       " '/some_fake_file_path/data_2023-02-09-21_0000.csv',\n",
       " '/some_fake_file_path/data_2023-02-09-22_0000.csv',\n",
       " '/some_fake_file_path/data_2023-02-09-23_0000.csv']"
      ]
     },
     "execution_count": 35,
     "metadata": {},
     "output_type": "execute_result"
    }
   ],
   "source": [
    "files = []\n",
    "for day in range(10):\n",
    "    for hour in range(24):\n",
    "        date_string = f\"/some_fake_file_path/data_2023-02-0{day}-{hour}_0000.csv\"\n",
    "        files.append(date_string)\n",
    "files[-10:] # peek at the last 10 files"
   ]
  },
  {
   "cell_type": "markdown",
   "id": "27544022-00f0-4800-a7c5-b097ffca9f34",
   "metadata": {},
   "source": [
    "## Dictionaries\n",
    "\n",
    "Dictionaries are used to store data values in key:value pairs. A dictionary is a datatype that is changeable and does not allow duplicates.\n",
    "\n",
    "They are created with curly braces `{}`. The **key** comes first, then the **value** which is separated by a colon `:`."
   ]
  },
  {
   "cell_type": "code",
   "execution_count": 36,
   "id": "a0921b1c-bef6-4e28-af53-10b99af3eaf8",
   "metadata": {},
   "outputs": [],
   "source": [
    "# an exmaple dictionary\n",
    "example_dict = {\"date\": \"2023-02-19\",\n",
    "                \"temperature\": 45.7,\n",
    "                \"dewpoint\": 38.5,\n",
    "                \"overcast\": False}"
   ]
  },
  {
   "cell_type": "markdown",
   "id": "f184d3c9-5c2f-4674-89e0-98665675e955",
   "metadata": {},
   "source": [
    "The keys are generally **strings** (because they should be descriptive), but they don't have to be.\n",
    "\n",
    "Dictionary **values** are accessed with the **key**, using square brackets `[]`."
   ]
  },
  {
   "cell_type": "code",
   "execution_count": 37,
   "id": "853e6861-0c06-41ed-83ed-92c7229b2f30",
   "metadata": {},
   "outputs": [
    {
     "data": {
      "text/plain": [
       "38.5"
      ]
     },
     "execution_count": 37,
     "metadata": {},
     "output_type": "execute_result"
    }
   ],
   "source": [
    "# retreive the dewpoint value from the dictionary\n",
    "example_dict[\"dewpoint\"]"
   ]
  },
  {
   "cell_type": "code",
   "execution_count": 38,
   "id": "52005db6-1e6b-49d4-b745-0b02d99d8fa9",
   "metadata": {},
   "outputs": [
    {
     "data": {
      "text/plain": [
       "False"
      ]
     },
     "execution_count": 38,
     "metadata": {},
     "output_type": "execute_result"
    }
   ],
   "source": [
    "# retreive the overcast value from the dictionary\n",
    "example_dict[\"overcast\"]"
   ]
  },
  {
   "cell_type": "markdown",
   "id": "411f734f-a569-4c2f-9e94-7f3d4319be8f",
   "metadata": {},
   "source": [
    "## More Pandas Dataframes ...\n",
    "\n",
    "Let's work with some more data - this time we'll still have three stations of data (Fort Collins **(fcl)**, Fort Lupton **(ftl)**, and Rocky Ford **(rfd)**) but we'll have daily data for 26 years (1996 - 2022). "
   ]
  },
  {
   "cell_type": "code",
   "execution_count": 39,
   "id": "d5fd7408-9b01-4bec-8b8a-3f242ea327be",
   "metadata": {},
   "outputs": [
    {
     "data": {
      "text/html": [
       "<div>\n",
       "<style scoped>\n",
       "    .dataframe tbody tr th:only-of-type {\n",
       "        vertical-align: middle;\n",
       "    }\n",
       "\n",
       "    .dataframe tbody tr th {\n",
       "        vertical-align: top;\n",
       "    }\n",
       "\n",
       "    .dataframe thead th {\n",
       "        text-align: right;\n",
       "    }\n",
       "</style>\n",
       "<table border=\"1\" class=\"dataframe\">\n",
       "  <thead>\n",
       "    <tr style=\"text-align: right;\">\n",
       "      <th></th>\n",
       "      <th>Station</th>\n",
       "      <th>Date</th>\n",
       "      <th>Avg Temp</th>\n",
       "      <th>Max Temp</th>\n",
       "      <th>Max Temp Time</th>\n",
       "      <th>Min Temp</th>\n",
       "      <th>Min Temp Time</th>\n",
       "      <th>RH Max</th>\n",
       "      <th>RH Max Time</th>\n",
       "      <th>RH Min</th>\n",
       "      <th>RH Min Time</th>\n",
       "      <th>Precip</th>\n",
       "      <th>Solar Rad</th>\n",
       "    </tr>\n",
       "  </thead>\n",
       "  <tbody>\n",
       "    <tr>\n",
       "      <th>0</th>\n",
       "      <td>fcl01</td>\n",
       "      <td>1996-10-01</td>\n",
       "      <td>62.64</td>\n",
       "      <td>83.13</td>\n",
       "      <td>2023-02-19 16:10:00</td>\n",
       "      <td>43.69</td>\n",
       "      <td>2023-02-19 06:10:00</td>\n",
       "      <td>0.857</td>\n",
       "      <td>2023-02-19 02:20:00</td>\n",
       "      <td>0.120</td>\n",
       "      <td>2023-02-19 15:40:00</td>\n",
       "      <td>NaN</td>\n",
       "      <td>NaN</td>\n",
       "    </tr>\n",
       "    <tr>\n",
       "      <th>1</th>\n",
       "      <td>fcl01</td>\n",
       "      <td>1996-10-02</td>\n",
       "      <td>49.55</td>\n",
       "      <td>57.77</td>\n",
       "      <td>2023-02-19 15:20:00</td>\n",
       "      <td>44.45</td>\n",
       "      <td>2023-02-19 05:20:00</td>\n",
       "      <td>0.789</td>\n",
       "      <td>2023-02-19 05:30:00</td>\n",
       "      <td>0.532</td>\n",
       "      <td>2023-02-19 17:10:00</td>\n",
       "      <td>NaN</td>\n",
       "      <td>NaN</td>\n",
       "    </tr>\n",
       "    <tr>\n",
       "      <th>2</th>\n",
       "      <td>fcl01</td>\n",
       "      <td>1996-10-03</td>\n",
       "      <td>53.74</td>\n",
       "      <td>68.50</td>\n",
       "      <td>2023-02-19 14:50:00</td>\n",
       "      <td>43.84</td>\n",
       "      <td>2023-02-19 03:10:00</td>\n",
       "      <td>0.961</td>\n",
       "      <td>2023-02-19 23:40:00</td>\n",
       "      <td>0.390</td>\n",
       "      <td>2023-02-19 14:50:00</td>\n",
       "      <td>NaN</td>\n",
       "      <td>NaN</td>\n",
       "    </tr>\n",
       "    <tr>\n",
       "      <th>3</th>\n",
       "      <td>fcl01</td>\n",
       "      <td>1996-10-04</td>\n",
       "      <td>59.22</td>\n",
       "      <td>75.92</td>\n",
       "      <td>2023-02-19 15:40:00</td>\n",
       "      <td>44.26</td>\n",
       "      <td>2023-02-19 06:00:00</td>\n",
       "      <td>1.017</td>\n",
       "      <td>2023-02-19 06:20:00</td>\n",
       "      <td>0.308</td>\n",
       "      <td>2023-02-19 15:10:00</td>\n",
       "      <td>NaN</td>\n",
       "      <td>NaN</td>\n",
       "    </tr>\n",
       "    <tr>\n",
       "      <th>4</th>\n",
       "      <td>fcl01</td>\n",
       "      <td>1996-10-05</td>\n",
       "      <td>60.36</td>\n",
       "      <td>77.86</td>\n",
       "      <td>2023-02-19 14:20:00</td>\n",
       "      <td>43.08</td>\n",
       "      <td>2023-02-19 06:00:00</td>\n",
       "      <td>0.984</td>\n",
       "      <td>2023-02-19 06:20:00</td>\n",
       "      <td>0.221</td>\n",
       "      <td>2023-02-19 13:20:00</td>\n",
       "      <td>NaN</td>\n",
       "      <td>NaN</td>\n",
       "    </tr>\n",
       "    <tr>\n",
       "      <th>...</th>\n",
       "      <td>...</td>\n",
       "      <td>...</td>\n",
       "      <td>...</td>\n",
       "      <td>...</td>\n",
       "      <td>...</td>\n",
       "      <td>...</td>\n",
       "      <td>...</td>\n",
       "      <td>...</td>\n",
       "      <td>...</td>\n",
       "      <td>...</td>\n",
       "      <td>...</td>\n",
       "      <td>...</td>\n",
       "      <td>...</td>\n",
       "    </tr>\n",
       "    <tr>\n",
       "      <th>27391</th>\n",
       "      <td>rfd01</td>\n",
       "      <td>2021-09-27</td>\n",
       "      <td>67.17</td>\n",
       "      <td>87.26</td>\n",
       "      <td>2023-02-19 12:36:00</td>\n",
       "      <td>46.11</td>\n",
       "      <td>2023-02-19 05:56:00</td>\n",
       "      <td>0.863</td>\n",
       "      <td>2023-02-19 06:02:00</td>\n",
       "      <td>0.196</td>\n",
       "      <td>2023-02-19 14:18:00</td>\n",
       "      <td>0.00</td>\n",
       "      <td>196.30</td>\n",
       "    </tr>\n",
       "    <tr>\n",
       "      <th>27392</th>\n",
       "      <td>rfd01</td>\n",
       "      <td>2021-09-28</td>\n",
       "      <td>65.30</td>\n",
       "      <td>82.98</td>\n",
       "      <td>2023-02-19 13:00:00</td>\n",
       "      <td>48.52</td>\n",
       "      <td>2023-02-19 05:51:00</td>\n",
       "      <td>0.844</td>\n",
       "      <td>2023-02-19 23:55:00</td>\n",
       "      <td>0.203</td>\n",
       "      <td>2023-02-19 12:24:00</td>\n",
       "      <td>0.00</td>\n",
       "      <td>176.97</td>\n",
       "    </tr>\n",
       "    <tr>\n",
       "      <th>27393</th>\n",
       "      <td>rfd01</td>\n",
       "      <td>2021-09-29</td>\n",
       "      <td>62.17</td>\n",
       "      <td>81.82</td>\n",
       "      <td>2023-02-19 14:39:00</td>\n",
       "      <td>43.56</td>\n",
       "      <td>2023-02-19 05:40:00</td>\n",
       "      <td>0.966</td>\n",
       "      <td>2023-02-19 23:16:00</td>\n",
       "      <td>0.253</td>\n",
       "      <td>2023-02-19 14:27:00</td>\n",
       "      <td>0.35</td>\n",
       "      <td>218.40</td>\n",
       "    </tr>\n",
       "    <tr>\n",
       "      <th>27394</th>\n",
       "      <td>rfd01</td>\n",
       "      <td>2021-09-30</td>\n",
       "      <td>55.76</td>\n",
       "      <td>68.23</td>\n",
       "      <td>2023-02-19 15:46:00</td>\n",
       "      <td>46.65</td>\n",
       "      <td>2023-02-19 05:49:00</td>\n",
       "      <td>0.967</td>\n",
       "      <td>2023-02-19 00:52:00</td>\n",
       "      <td>0.373</td>\n",
       "      <td>2023-02-19 15:48:00</td>\n",
       "      <td>0.29</td>\n",
       "      <td>201.16</td>\n",
       "    </tr>\n",
       "    <tr>\n",
       "      <th>27395</th>\n",
       "      <td>rfd01</td>\n",
       "      <td>2021-10-01</td>\n",
       "      <td>56.53</td>\n",
       "      <td>65.41</td>\n",
       "      <td>2023-02-19 11:37:00</td>\n",
       "      <td>51.55</td>\n",
       "      <td>2023-02-19 03:07:00</td>\n",
       "      <td>0.988</td>\n",
       "      <td>2023-02-19 23:56:00</td>\n",
       "      <td>0.535</td>\n",
       "      <td>2023-02-19 12:23:00</td>\n",
       "      <td>0.44</td>\n",
       "      <td>99.65</td>\n",
       "    </tr>\n",
       "  </tbody>\n",
       "</table>\n",
       "<p>27396 rows × 13 columns</p>\n",
       "</div>"
      ],
      "text/plain": [
       "      Station       Date  Avg Temp  Max Temp       Max Temp Time  Min Temp  \\\n",
       "0       fcl01 1996-10-01     62.64     83.13 2023-02-19 16:10:00     43.69   \n",
       "1       fcl01 1996-10-02     49.55     57.77 2023-02-19 15:20:00     44.45   \n",
       "2       fcl01 1996-10-03     53.74     68.50 2023-02-19 14:50:00     43.84   \n",
       "3       fcl01 1996-10-04     59.22     75.92 2023-02-19 15:40:00     44.26   \n",
       "4       fcl01 1996-10-05     60.36     77.86 2023-02-19 14:20:00     43.08   \n",
       "...       ...        ...       ...       ...                 ...       ...   \n",
       "27391   rfd01 2021-09-27     67.17     87.26 2023-02-19 12:36:00     46.11   \n",
       "27392   rfd01 2021-09-28     65.30     82.98 2023-02-19 13:00:00     48.52   \n",
       "27393   rfd01 2021-09-29     62.17     81.82 2023-02-19 14:39:00     43.56   \n",
       "27394   rfd01 2021-09-30     55.76     68.23 2023-02-19 15:46:00     46.65   \n",
       "27395   rfd01 2021-10-01     56.53     65.41 2023-02-19 11:37:00     51.55   \n",
       "\n",
       "            Min Temp Time  RH Max         RH Max Time  RH Min  \\\n",
       "0     2023-02-19 06:10:00   0.857 2023-02-19 02:20:00   0.120   \n",
       "1     2023-02-19 05:20:00   0.789 2023-02-19 05:30:00   0.532   \n",
       "2     2023-02-19 03:10:00   0.961 2023-02-19 23:40:00   0.390   \n",
       "3     2023-02-19 06:00:00   1.017 2023-02-19 06:20:00   0.308   \n",
       "4     2023-02-19 06:00:00   0.984 2023-02-19 06:20:00   0.221   \n",
       "...                   ...     ...                 ...     ...   \n",
       "27391 2023-02-19 05:56:00   0.863 2023-02-19 06:02:00   0.196   \n",
       "27392 2023-02-19 05:51:00   0.844 2023-02-19 23:55:00   0.203   \n",
       "27393 2023-02-19 05:40:00   0.966 2023-02-19 23:16:00   0.253   \n",
       "27394 2023-02-19 05:49:00   0.967 2023-02-19 00:52:00   0.373   \n",
       "27395 2023-02-19 03:07:00   0.988 2023-02-19 23:56:00   0.535   \n",
       "\n",
       "              RH Min Time  Precip  Solar Rad  \n",
       "0     2023-02-19 15:40:00     NaN        NaN  \n",
       "1     2023-02-19 17:10:00     NaN        NaN  \n",
       "2     2023-02-19 14:50:00     NaN        NaN  \n",
       "3     2023-02-19 15:10:00     NaN        NaN  \n",
       "4     2023-02-19 13:20:00     NaN        NaN  \n",
       "...                   ...     ...        ...  \n",
       "27391 2023-02-19 14:18:00    0.00     196.30  \n",
       "27392 2023-02-19 12:24:00    0.00     176.97  \n",
       "27393 2023-02-19 14:27:00    0.35     218.40  \n",
       "27394 2023-02-19 15:48:00    0.29     201.16  \n",
       "27395 2023-02-19 12:23:00    0.44      99.65  \n",
       "\n",
       "[27396 rows x 13 columns]"
      ]
     },
     "execution_count": 39,
     "metadata": {},
     "output_type": "execute_result"
    }
   ],
   "source": [
    "data = pd.read_csv('/Users/charlesbecker/Downloads/lab_5_data.csv',\n",
    "                parse_dates=['Date', 'Max Temp Time', 'Min Temp Time', 'RH Max Time', 'RH Min Time'])\n",
    "data"
   ]
  },
  {
   "cell_type": "markdown",
   "id": "32ca7f5c-0711-4187-8704-37f0606153a5",
   "metadata": {},
   "source": [
    "Let's try something more useful with a dictionary. Why don't we change the names of the stations to something that is a little more interpretble. We can see the station codes in the dataframe with the column name `Station`. We can get all of the **unique** values using the `.unique()` method."
   ]
  },
  {
   "cell_type": "code",
   "execution_count": 40,
   "id": "ffefca0b-c7cd-40ac-907e-9558bd1a5820",
   "metadata": {},
   "outputs": [
    {
     "data": {
      "text/plain": [
       "array(['fcl01', 'ftl01', 'rfd01'], dtype=object)"
      ]
     },
     "execution_count": 40,
     "metadata": {},
     "output_type": "execute_result"
    }
   ],
   "source": [
    "data['Station'].unique()"
   ]
  },
  {
   "cell_type": "markdown",
   "id": "eac75655-d5fd-4568-b53a-9db13b7a9db6",
   "metadata": {},
   "source": [
    "We know from the metadata, that these codes refer to Fort Collins, Fort Lupton, and Rocky Ford. Let's make a dictionary that map the codes to a more readable verison."
   ]
  },
  {
   "cell_type": "code",
   "execution_count": 41,
   "id": "ea722934-ef61-46d7-af83-f902be0f6307",
   "metadata": {},
   "outputs": [
    {
     "data": {
      "text/plain": [
       "'Fort Lupton'"
      ]
     },
     "execution_count": 41,
     "metadata": {},
     "output_type": "execute_result"
    }
   ],
   "source": [
    "# create the dictionary\n",
    "station_dict = {'fcl01': 'Fort Collins', 'ftl01': 'Fort Lupton', 'rfd01': 'Rocky Ford'}\n",
    "\n",
    "# test that you can query a value\n",
    "station_dict['ftl01']"
   ]
  },
  {
   "cell_type": "markdown",
   "id": "7786c716-06a7-4e88-8f28-3e0722a67c43",
   "metadata": {},
   "source": [
    "Now let's rename the stations using our dictionary. We can use the `.map()` pandas method to apply the dictionary over the entire column. "
   ]
  },
  {
   "cell_type": "code",
   "execution_count": 42,
   "id": "b7967558-b59c-4839-b418-7202b978afa8",
   "metadata": {},
   "outputs": [
    {
     "data": {
      "text/plain": [
       "0        Fort Collins\n",
       "1        Fort Collins\n",
       "2        Fort Collins\n",
       "3        Fort Collins\n",
       "4        Fort Collins\n",
       "             ...     \n",
       "27391      Rocky Ford\n",
       "27392      Rocky Ford\n",
       "27393      Rocky Ford\n",
       "27394      Rocky Ford\n",
       "27395      Rocky Ford\n",
       "Name: Station, Length: 27396, dtype: object"
      ]
     },
     "execution_count": 42,
     "metadata": {},
     "output_type": "execute_result"
    }
   ],
   "source": [
    "# use the dictionary on the entire column\n",
    "data['Station'].map(station_dict)"
   ]
  },
  {
   "cell_type": "code",
   "execution_count": 43,
   "id": "94e7203c-4e83-41a7-834c-8b85c0c2d64a",
   "metadata": {},
   "outputs": [
    {
     "data": {
      "text/html": [
       "<div>\n",
       "<style scoped>\n",
       "    .dataframe tbody tr th:only-of-type {\n",
       "        vertical-align: middle;\n",
       "    }\n",
       "\n",
       "    .dataframe tbody tr th {\n",
       "        vertical-align: top;\n",
       "    }\n",
       "\n",
       "    .dataframe thead th {\n",
       "        text-align: right;\n",
       "    }\n",
       "</style>\n",
       "<table border=\"1\" class=\"dataframe\">\n",
       "  <thead>\n",
       "    <tr style=\"text-align: right;\">\n",
       "      <th></th>\n",
       "      <th>Station</th>\n",
       "      <th>Date</th>\n",
       "      <th>Avg Temp</th>\n",
       "      <th>Max Temp</th>\n",
       "      <th>Max Temp Time</th>\n",
       "      <th>Min Temp</th>\n",
       "      <th>Min Temp Time</th>\n",
       "      <th>RH Max</th>\n",
       "      <th>RH Max Time</th>\n",
       "      <th>RH Min</th>\n",
       "      <th>RH Min Time</th>\n",
       "      <th>Precip</th>\n",
       "      <th>Solar Rad</th>\n",
       "    </tr>\n",
       "  </thead>\n",
       "  <tbody>\n",
       "    <tr>\n",
       "      <th>0</th>\n",
       "      <td>Fort Collins</td>\n",
       "      <td>1996-10-01</td>\n",
       "      <td>62.64</td>\n",
       "      <td>83.13</td>\n",
       "      <td>2023-02-19 16:10:00</td>\n",
       "      <td>43.69</td>\n",
       "      <td>2023-02-19 06:10:00</td>\n",
       "      <td>0.857</td>\n",
       "      <td>2023-02-19 02:20:00</td>\n",
       "      <td>0.120</td>\n",
       "      <td>2023-02-19 15:40:00</td>\n",
       "      <td>NaN</td>\n",
       "      <td>NaN</td>\n",
       "    </tr>\n",
       "    <tr>\n",
       "      <th>1</th>\n",
       "      <td>Fort Collins</td>\n",
       "      <td>1996-10-02</td>\n",
       "      <td>49.55</td>\n",
       "      <td>57.77</td>\n",
       "      <td>2023-02-19 15:20:00</td>\n",
       "      <td>44.45</td>\n",
       "      <td>2023-02-19 05:20:00</td>\n",
       "      <td>0.789</td>\n",
       "      <td>2023-02-19 05:30:00</td>\n",
       "      <td>0.532</td>\n",
       "      <td>2023-02-19 17:10:00</td>\n",
       "      <td>NaN</td>\n",
       "      <td>NaN</td>\n",
       "    </tr>\n",
       "    <tr>\n",
       "      <th>2</th>\n",
       "      <td>Fort Collins</td>\n",
       "      <td>1996-10-03</td>\n",
       "      <td>53.74</td>\n",
       "      <td>68.50</td>\n",
       "      <td>2023-02-19 14:50:00</td>\n",
       "      <td>43.84</td>\n",
       "      <td>2023-02-19 03:10:00</td>\n",
       "      <td>0.961</td>\n",
       "      <td>2023-02-19 23:40:00</td>\n",
       "      <td>0.390</td>\n",
       "      <td>2023-02-19 14:50:00</td>\n",
       "      <td>NaN</td>\n",
       "      <td>NaN</td>\n",
       "    </tr>\n",
       "    <tr>\n",
       "      <th>3</th>\n",
       "      <td>Fort Collins</td>\n",
       "      <td>1996-10-04</td>\n",
       "      <td>59.22</td>\n",
       "      <td>75.92</td>\n",
       "      <td>2023-02-19 15:40:00</td>\n",
       "      <td>44.26</td>\n",
       "      <td>2023-02-19 06:00:00</td>\n",
       "      <td>1.017</td>\n",
       "      <td>2023-02-19 06:20:00</td>\n",
       "      <td>0.308</td>\n",
       "      <td>2023-02-19 15:10:00</td>\n",
       "      <td>NaN</td>\n",
       "      <td>NaN</td>\n",
       "    </tr>\n",
       "    <tr>\n",
       "      <th>4</th>\n",
       "      <td>Fort Collins</td>\n",
       "      <td>1996-10-05</td>\n",
       "      <td>60.36</td>\n",
       "      <td>77.86</td>\n",
       "      <td>2023-02-19 14:20:00</td>\n",
       "      <td>43.08</td>\n",
       "      <td>2023-02-19 06:00:00</td>\n",
       "      <td>0.984</td>\n",
       "      <td>2023-02-19 06:20:00</td>\n",
       "      <td>0.221</td>\n",
       "      <td>2023-02-19 13:20:00</td>\n",
       "      <td>NaN</td>\n",
       "      <td>NaN</td>\n",
       "    </tr>\n",
       "  </tbody>\n",
       "</table>\n",
       "</div>"
      ],
      "text/plain": [
       "        Station       Date  Avg Temp  Max Temp       Max Temp Time  Min Temp  \\\n",
       "0  Fort Collins 1996-10-01     62.64     83.13 2023-02-19 16:10:00     43.69   \n",
       "1  Fort Collins 1996-10-02     49.55     57.77 2023-02-19 15:20:00     44.45   \n",
       "2  Fort Collins 1996-10-03     53.74     68.50 2023-02-19 14:50:00     43.84   \n",
       "3  Fort Collins 1996-10-04     59.22     75.92 2023-02-19 15:40:00     44.26   \n",
       "4  Fort Collins 1996-10-05     60.36     77.86 2023-02-19 14:20:00     43.08   \n",
       "\n",
       "        Min Temp Time  RH Max         RH Max Time  RH Min         RH Min Time  \\\n",
       "0 2023-02-19 06:10:00   0.857 2023-02-19 02:20:00   0.120 2023-02-19 15:40:00   \n",
       "1 2023-02-19 05:20:00   0.789 2023-02-19 05:30:00   0.532 2023-02-19 17:10:00   \n",
       "2 2023-02-19 03:10:00   0.961 2023-02-19 23:40:00   0.390 2023-02-19 14:50:00   \n",
       "3 2023-02-19 06:00:00   1.017 2023-02-19 06:20:00   0.308 2023-02-19 15:10:00   \n",
       "4 2023-02-19 06:00:00   0.984 2023-02-19 06:20:00   0.221 2023-02-19 13:20:00   \n",
       "\n",
       "   Precip  Solar Rad  \n",
       "0     NaN        NaN  \n",
       "1     NaN        NaN  \n",
       "2     NaN        NaN  \n",
       "3     NaN        NaN  \n",
       "4     NaN        NaN  "
      ]
     },
     "execution_count": 43,
     "metadata": {},
     "output_type": "execute_result"
    }
   ],
   "source": [
    "# overwrite the column with the new values\n",
    "data['Station'] = data['Station'].map(station_dict)\n",
    "\n",
    "data.head()"
   ]
  },
  {
   "cell_type": "markdown",
   "id": "f69add7d-79fb-4f97-a8c9-be6a23cf0975",
   "metadata": {},
   "source": [
    "## The `groupby()` function\n",
    "\n",
    "Last week we learned how to subset data. This week we'll expand on that idea and introduce the `groupby()` function. Which can automatically group your data by your specified \"group\" and then perform operations independently for each group."
   ]
  },
  {
   "cell_type": "code",
   "execution_count": 44,
   "id": "06898990-7939-4017-8799-a749f76581ef",
   "metadata": {},
   "outputs": [
    {
     "data": {
      "text/plain": [
       "<pandas.core.groupby.generic.DataFrameGroupBy object at 0x11a4e44c0>"
      ]
     },
     "execution_count": 44,
     "metadata": {},
     "output_type": "execute_result"
    }
   ],
   "source": [
    "# suppose we want to groupby each individual station -\n",
    "data.groupby(data['Station'])"
   ]
  },
  {
   "cell_type": "markdown",
   "id": "477b9ca7-8b0d-4972-9b22-b69b1a8361ec",
   "metadata": {},
   "source": [
    "The groupby method is performed with `.groupby()` call, with the \"group\" you want to seperate by. The **members** of the group are the **unique** elements in the column you call. In the cell above, we don't see any output because we haven't done anything with the groups, we just created them. You can check the unique elements in a dataframe column, using the `.unique()` method."
   ]
  },
  {
   "cell_type": "code",
   "execution_count": 45,
   "id": "2fd85b62-94dd-409e-b436-424ca39246ca",
   "metadata": {},
   "outputs": [
    {
     "data": {
      "text/plain": [
       "array(['Fort Collins', 'Fort Lupton', 'Rocky Ford'], dtype=object)"
      ]
     },
     "execution_count": 45,
     "metadata": {},
     "output_type": "execute_result"
    }
   ],
   "source": [
    "# these are the three unique stations in the dataset, and our three groups from above\n",
    "data['Station'].unique()"
   ]
  },
  {
   "cell_type": "markdown",
   "id": "2d7a7cf2-7f15-4adb-abe9-ae31a7dbc626",
   "metadata": {},
   "source": [
    "To run a function on each group, just chain the method directly to the groupby call."
   ]
  },
  {
   "cell_type": "code",
   "execution_count": 46,
   "id": "cc62ff7b-791b-4798-afd6-273215ba92a0",
   "metadata": {},
   "outputs": [
    {
     "name": "stderr",
     "output_type": "stream",
     "text": [
      "/var/folders/64/t0k2b5t54z30blfdhrh_rtwh0000gn/T/ipykernel_90459/411974053.py:1: FutureWarning: The default value of numeric_only in DataFrameGroupBy.mean is deprecated. In a future version, numeric_only will default to False. Either specify numeric_only or select only columns which should be valid for the function.\n",
      "  data.groupby(data['Station']).mean()\n"
     ]
    },
    {
     "data": {
      "text/html": [
       "<div>\n",
       "<style scoped>\n",
       "    .dataframe tbody tr th:only-of-type {\n",
       "        vertical-align: middle;\n",
       "    }\n",
       "\n",
       "    .dataframe tbody tr th {\n",
       "        vertical-align: top;\n",
       "    }\n",
       "\n",
       "    .dataframe thead th {\n",
       "        text-align: right;\n",
       "    }\n",
       "</style>\n",
       "<table border=\"1\" class=\"dataframe\">\n",
       "  <thead>\n",
       "    <tr style=\"text-align: right;\">\n",
       "      <th></th>\n",
       "      <th>Avg Temp</th>\n",
       "      <th>Max Temp</th>\n",
       "      <th>Min Temp</th>\n",
       "      <th>RH Max</th>\n",
       "      <th>RH Min</th>\n",
       "      <th>Precip</th>\n",
       "      <th>Solar Rad</th>\n",
       "    </tr>\n",
       "    <tr>\n",
       "      <th>Station</th>\n",
       "      <th></th>\n",
       "      <th></th>\n",
       "      <th></th>\n",
       "      <th></th>\n",
       "      <th></th>\n",
       "      <th></th>\n",
       "      <th></th>\n",
       "    </tr>\n",
       "  </thead>\n",
       "  <tbody>\n",
       "    <tr>\n",
       "      <th>Fort Collins</th>\n",
       "      <td>50.314616</td>\n",
       "      <td>63.715366</td>\n",
       "      <td>37.352859</td>\n",
       "      <td>0.832422</td>\n",
       "      <td>0.298941</td>\n",
       "      <td>0.065309</td>\n",
       "      <td>292.321065</td>\n",
       "    </tr>\n",
       "    <tr>\n",
       "      <th>Fort Lupton</th>\n",
       "      <td>50.030233</td>\n",
       "      <td>64.659789</td>\n",
       "      <td>36.128872</td>\n",
       "      <td>0.884609</td>\n",
       "      <td>0.310050</td>\n",
       "      <td>0.024638</td>\n",
       "      <td>174.056260</td>\n",
       "    </tr>\n",
       "    <tr>\n",
       "      <th>Rocky Ford</th>\n",
       "      <td>52.968001</td>\n",
       "      <td>70.179537</td>\n",
       "      <td>36.422919</td>\n",
       "      <td>0.853139</td>\n",
       "      <td>0.252606</td>\n",
       "      <td>0.028650</td>\n",
       "      <td>208.951720</td>\n",
       "    </tr>\n",
       "  </tbody>\n",
       "</table>\n",
       "</div>"
      ],
      "text/plain": [
       "               Avg Temp   Max Temp   Min Temp    RH Max    RH Min    Precip  \\\n",
       "Station                                                                       \n",
       "Fort Collins  50.314616  63.715366  37.352859  0.832422  0.298941  0.065309   \n",
       "Fort Lupton   50.030233  64.659789  36.128872  0.884609  0.310050  0.024638   \n",
       "Rocky Ford    52.968001  70.179537  36.422919  0.853139  0.252606  0.028650   \n",
       "\n",
       "               Solar Rad  \n",
       "Station                   \n",
       "Fort Collins  292.321065  \n",
       "Fort Lupton   174.056260  \n",
       "Rocky Ford    208.951720  "
      ]
     },
     "execution_count": 46,
     "metadata": {},
     "output_type": "execute_result"
    }
   ],
   "source": [
    "data.groupby(data['Station']).mean()"
   ]
  },
  {
   "cell_type": "markdown",
   "id": "11c0fcc6-5fb9-4588-9ffa-5cfb51a99aab",
   "metadata": {},
   "source": [
    "And just like that, you found the mean for every column, independently, for each group (station) across the entire dataset.\n",
    "\n",
    "You can also do it for specific time chunks (hour / day / month / etc) using the methods we learned last week (using the `.dt` accessor)"
   ]
  },
  {
   "cell_type": "code",
   "execution_count": 47,
   "id": "179d66c8-5e82-48fe-a855-bce9f0fb7685",
   "metadata": {},
   "outputs": [
    {
     "name": "stderr",
     "output_type": "stream",
     "text": [
      "/var/folders/64/t0k2b5t54z30blfdhrh_rtwh0000gn/T/ipykernel_90459/1624973473.py:2: FutureWarning: The default value of numeric_only in DataFrameGroupBy.mean is deprecated. In a future version, numeric_only will default to False. Either specify numeric_only or select only columns which should be valid for the function.\n",
      "  data.groupby(data['Date'].dt.year).mean()\n"
     ]
    },
    {
     "data": {
      "text/html": [
       "<div>\n",
       "<style scoped>\n",
       "    .dataframe tbody tr th:only-of-type {\n",
       "        vertical-align: middle;\n",
       "    }\n",
       "\n",
       "    .dataframe tbody tr th {\n",
       "        vertical-align: top;\n",
       "    }\n",
       "\n",
       "    .dataframe thead th {\n",
       "        text-align: right;\n",
       "    }\n",
       "</style>\n",
       "<table border=\"1\" class=\"dataframe\">\n",
       "  <thead>\n",
       "    <tr style=\"text-align: right;\">\n",
       "      <th></th>\n",
       "      <th>Avg Temp</th>\n",
       "      <th>Max Temp</th>\n",
       "      <th>Min Temp</th>\n",
       "      <th>RH Max</th>\n",
       "      <th>RH Min</th>\n",
       "      <th>Precip</th>\n",
       "      <th>Solar Rad</th>\n",
       "    </tr>\n",
       "    <tr>\n",
       "      <th>Date</th>\n",
       "      <th></th>\n",
       "      <th></th>\n",
       "      <th></th>\n",
       "      <th></th>\n",
       "      <th></th>\n",
       "      <th></th>\n",
       "      <th></th>\n",
       "    </tr>\n",
       "  </thead>\n",
       "  <tbody>\n",
       "    <tr>\n",
       "      <th>1996</th>\n",
       "      <td>40.125839</td>\n",
       "      <td>55.938066</td>\n",
       "      <td>24.869562</td>\n",
       "      <td>0.855797</td>\n",
       "      <td>0.309102</td>\n",
       "      <td>0.006684</td>\n",
       "      <td>119.003516</td>\n",
       "    </tr>\n",
       "    <tr>\n",
       "      <th>1997</th>\n",
       "      <td>49.628332</td>\n",
       "      <td>64.092447</td>\n",
       "      <td>35.375101</td>\n",
       "      <td>0.834735</td>\n",
       "      <td>0.311781</td>\n",
       "      <td>0.035120</td>\n",
       "      <td>191.467149</td>\n",
       "    </tr>\n",
       "    <tr>\n",
       "      <th>1998</th>\n",
       "      <td>51.967215</td>\n",
       "      <td>66.156700</td>\n",
       "      <td>38.501907</td>\n",
       "      <td>0.838464</td>\n",
       "      <td>0.313184</td>\n",
       "      <td>0.027867</td>\n",
       "      <td>195.442648</td>\n",
       "    </tr>\n",
       "    <tr>\n",
       "      <th>1999</th>\n",
       "      <td>52.292040</td>\n",
       "      <td>67.403347</td>\n",
       "      <td>38.047530</td>\n",
       "      <td>0.757368</td>\n",
       "      <td>0.281539</td>\n",
       "      <td>0.039414</td>\n",
       "      <td>189.213317</td>\n",
       "    </tr>\n",
       "    <tr>\n",
       "      <th>2000</th>\n",
       "      <td>52.515087</td>\n",
       "      <td>67.587375</td>\n",
       "      <td>37.869933</td>\n",
       "      <td>0.894173</td>\n",
       "      <td>0.304170</td>\n",
       "      <td>0.023773</td>\n",
       "      <td>175.585353</td>\n",
       "    </tr>\n",
       "    <tr>\n",
       "      <th>2001</th>\n",
       "      <td>51.241008</td>\n",
       "      <td>66.529670</td>\n",
       "      <td>37.031292</td>\n",
       "      <td>0.911352</td>\n",
       "      <td>0.324414</td>\n",
       "      <td>0.028816</td>\n",
       "      <td>167.108760</td>\n",
       "    </tr>\n",
       "    <tr>\n",
       "      <th>2002</th>\n",
       "      <td>50.940183</td>\n",
       "      <td>66.315394</td>\n",
       "      <td>35.889486</td>\n",
       "      <td>0.852634</td>\n",
       "      <td>0.282713</td>\n",
       "      <td>0.009522</td>\n",
       "      <td>165.776143</td>\n",
       "    </tr>\n",
       "    <tr>\n",
       "      <th>2003</th>\n",
       "      <td>51.680955</td>\n",
       "      <td>66.931983</td>\n",
       "      <td>36.955849</td>\n",
       "      <td>0.880018</td>\n",
       "      <td>0.303526</td>\n",
       "      <td>0.016694</td>\n",
       "      <td>197.799614</td>\n",
       "    </tr>\n",
       "    <tr>\n",
       "      <th>2004</th>\n",
       "      <td>50.812763</td>\n",
       "      <td>65.738519</td>\n",
       "      <td>36.498040</td>\n",
       "      <td>0.903518</td>\n",
       "      <td>0.335671</td>\n",
       "      <td>0.031385</td>\n",
       "      <td>198.074113</td>\n",
       "    </tr>\n",
       "    <tr>\n",
       "      <th>2005</th>\n",
       "      <td>51.418804</td>\n",
       "      <td>66.675060</td>\n",
       "      <td>36.892226</td>\n",
       "      <td>0.874722</td>\n",
       "      <td>0.292614</td>\n",
       "      <td>0.029087</td>\n",
       "      <td>192.247839</td>\n",
       "    </tr>\n",
       "    <tr>\n",
       "      <th>2006</th>\n",
       "      <td>51.610147</td>\n",
       "      <td>67.024409</td>\n",
       "      <td>36.816489</td>\n",
       "      <td>0.820873</td>\n",
       "      <td>0.255678</td>\n",
       "      <td>0.034292</td>\n",
       "      <td>206.053979</td>\n",
       "    </tr>\n",
       "    <tr>\n",
       "      <th>2007</th>\n",
       "      <td>45.967848</td>\n",
       "      <td>59.474777</td>\n",
       "      <td>33.370905</td>\n",
       "      <td>0.874287</td>\n",
       "      <td>0.310670</td>\n",
       "      <td>0.041892</td>\n",
       "      <td>444.280994</td>\n",
       "    </tr>\n",
       "    <tr>\n",
       "      <th>2008</th>\n",
       "      <td>50.186056</td>\n",
       "      <td>65.342887</td>\n",
       "      <td>35.250383</td>\n",
       "      <td>0.843144</td>\n",
       "      <td>0.258882</td>\n",
       "      <td>0.033811</td>\n",
       "      <td>213.310701</td>\n",
       "    </tr>\n",
       "    <tr>\n",
       "      <th>2009</th>\n",
       "      <td>50.387415</td>\n",
       "      <td>65.234733</td>\n",
       "      <td>36.316849</td>\n",
       "      <td>0.868234</td>\n",
       "      <td>0.296339</td>\n",
       "      <td>0.057093</td>\n",
       "      <td>213.366893</td>\n",
       "    </tr>\n",
       "    <tr>\n",
       "      <th>2010</th>\n",
       "      <td>50.870622</td>\n",
       "      <td>65.677459</td>\n",
       "      <td>36.756929</td>\n",
       "      <td>0.866986</td>\n",
       "      <td>0.284716</td>\n",
       "      <td>0.046289</td>\n",
       "      <td>216.767952</td>\n",
       "    </tr>\n",
       "    <tr>\n",
       "      <th>2011</th>\n",
       "      <td>49.334497</td>\n",
       "      <td>64.294570</td>\n",
       "      <td>34.757645</td>\n",
       "      <td>0.851184</td>\n",
       "      <td>0.276485</td>\n",
       "      <td>0.050473</td>\n",
       "      <td>211.615429</td>\n",
       "    </tr>\n",
       "    <tr>\n",
       "      <th>2012</th>\n",
       "      <td>53.358837</td>\n",
       "      <td>69.009716</td>\n",
       "      <td>37.651841</td>\n",
       "      <td>0.804228</td>\n",
       "      <td>0.229866</td>\n",
       "      <td>0.022189</td>\n",
       "      <td>218.439478</td>\n",
       "    </tr>\n",
       "    <tr>\n",
       "      <th>2013</th>\n",
       "      <td>49.922149</td>\n",
       "      <td>65.162743</td>\n",
       "      <td>35.389008</td>\n",
       "      <td>0.851768</td>\n",
       "      <td>0.271990</td>\n",
       "      <td>0.037879</td>\n",
       "      <td>210.616505</td>\n",
       "    </tr>\n",
       "    <tr>\n",
       "      <th>2014</th>\n",
       "      <td>49.523868</td>\n",
       "      <td>64.862600</td>\n",
       "      <td>35.090155</td>\n",
       "      <td>0.856743</td>\n",
       "      <td>0.289122</td>\n",
       "      <td>0.055207</td>\n",
       "      <td>214.322031</td>\n",
       "    </tr>\n",
       "    <tr>\n",
       "      <th>2015</th>\n",
       "      <td>51.904669</td>\n",
       "      <td>66.615755</td>\n",
       "      <td>38.067330</td>\n",
       "      <td>0.886653</td>\n",
       "      <td>0.305429</td>\n",
       "      <td>0.051133</td>\n",
       "      <td>206.215948</td>\n",
       "    </tr>\n",
       "    <tr>\n",
       "      <th>2016</th>\n",
       "      <td>52.301121</td>\n",
       "      <td>67.916199</td>\n",
       "      <td>37.325670</td>\n",
       "      <td>0.857464</td>\n",
       "      <td>0.259827</td>\n",
       "      <td>0.040830</td>\n",
       "      <td>211.879954</td>\n",
       "    </tr>\n",
       "    <tr>\n",
       "      <th>2017</th>\n",
       "      <td>54.288816</td>\n",
       "      <td>69.713806</td>\n",
       "      <td>39.619031</td>\n",
       "      <td>0.854395</td>\n",
       "      <td>0.280690</td>\n",
       "      <td>0.058664</td>\n",
       "      <td>203.561037</td>\n",
       "    </tr>\n",
       "    <tr>\n",
       "      <th>2018</th>\n",
       "      <td>52.248146</td>\n",
       "      <td>67.761826</td>\n",
       "      <td>37.566502</td>\n",
       "      <td>0.840704</td>\n",
       "      <td>0.265638</td>\n",
       "      <td>0.028128</td>\n",
       "      <td>230.131197</td>\n",
       "    </tr>\n",
       "    <tr>\n",
       "      <th>2019</th>\n",
       "      <td>49.877854</td>\n",
       "      <td>64.834219</td>\n",
       "      <td>35.869635</td>\n",
       "      <td>0.874953</td>\n",
       "      <td>0.301220</td>\n",
       "      <td>0.032137</td>\n",
       "      <td>224.595470</td>\n",
       "    </tr>\n",
       "    <tr>\n",
       "      <th>2020</th>\n",
       "      <td>52.016793</td>\n",
       "      <td>67.601153</td>\n",
       "      <td>36.394432</td>\n",
       "      <td>0.827110</td>\n",
       "      <td>0.253093</td>\n",
       "      <td>0.024354</td>\n",
       "      <td>200.590923</td>\n",
       "    </tr>\n",
       "    <tr>\n",
       "      <th>2021</th>\n",
       "      <td>54.573350</td>\n",
       "      <td>69.131683</td>\n",
       "      <td>40.322930</td>\n",
       "      <td>0.856431</td>\n",
       "      <td>0.289543</td>\n",
       "      <td>0.036630</td>\n",
       "      <td>215.212955</td>\n",
       "    </tr>\n",
       "  </tbody>\n",
       "</table>\n",
       "</div>"
      ],
      "text/plain": [
       "       Avg Temp   Max Temp   Min Temp    RH Max    RH Min    Precip  \\\n",
       "Date                                                                  \n",
       "1996  40.125839  55.938066  24.869562  0.855797  0.309102  0.006684   \n",
       "1997  49.628332  64.092447  35.375101  0.834735  0.311781  0.035120   \n",
       "1998  51.967215  66.156700  38.501907  0.838464  0.313184  0.027867   \n",
       "1999  52.292040  67.403347  38.047530  0.757368  0.281539  0.039414   \n",
       "2000  52.515087  67.587375  37.869933  0.894173  0.304170  0.023773   \n",
       "2001  51.241008  66.529670  37.031292  0.911352  0.324414  0.028816   \n",
       "2002  50.940183  66.315394  35.889486  0.852634  0.282713  0.009522   \n",
       "2003  51.680955  66.931983  36.955849  0.880018  0.303526  0.016694   \n",
       "2004  50.812763  65.738519  36.498040  0.903518  0.335671  0.031385   \n",
       "2005  51.418804  66.675060  36.892226  0.874722  0.292614  0.029087   \n",
       "2006  51.610147  67.024409  36.816489  0.820873  0.255678  0.034292   \n",
       "2007  45.967848  59.474777  33.370905  0.874287  0.310670  0.041892   \n",
       "2008  50.186056  65.342887  35.250383  0.843144  0.258882  0.033811   \n",
       "2009  50.387415  65.234733  36.316849  0.868234  0.296339  0.057093   \n",
       "2010  50.870622  65.677459  36.756929  0.866986  0.284716  0.046289   \n",
       "2011  49.334497  64.294570  34.757645  0.851184  0.276485  0.050473   \n",
       "2012  53.358837  69.009716  37.651841  0.804228  0.229866  0.022189   \n",
       "2013  49.922149  65.162743  35.389008  0.851768  0.271990  0.037879   \n",
       "2014  49.523868  64.862600  35.090155  0.856743  0.289122  0.055207   \n",
       "2015  51.904669  66.615755  38.067330  0.886653  0.305429  0.051133   \n",
       "2016  52.301121  67.916199  37.325670  0.857464  0.259827  0.040830   \n",
       "2017  54.288816  69.713806  39.619031  0.854395  0.280690  0.058664   \n",
       "2018  52.248146  67.761826  37.566502  0.840704  0.265638  0.028128   \n",
       "2019  49.877854  64.834219  35.869635  0.874953  0.301220  0.032137   \n",
       "2020  52.016793  67.601153  36.394432  0.827110  0.253093  0.024354   \n",
       "2021  54.573350  69.131683  40.322930  0.856431  0.289543  0.036630   \n",
       "\n",
       "       Solar Rad  \n",
       "Date              \n",
       "1996  119.003516  \n",
       "1997  191.467149  \n",
       "1998  195.442648  \n",
       "1999  189.213317  \n",
       "2000  175.585353  \n",
       "2001  167.108760  \n",
       "2002  165.776143  \n",
       "2003  197.799614  \n",
       "2004  198.074113  \n",
       "2005  192.247839  \n",
       "2006  206.053979  \n",
       "2007  444.280994  \n",
       "2008  213.310701  \n",
       "2009  213.366893  \n",
       "2010  216.767952  \n",
       "2011  211.615429  \n",
       "2012  218.439478  \n",
       "2013  210.616505  \n",
       "2014  214.322031  \n",
       "2015  206.215948  \n",
       "2016  211.879954  \n",
       "2017  203.561037  \n",
       "2018  230.131197  \n",
       "2019  224.595470  \n",
       "2020  200.590923  \n",
       "2021  215.212955  "
      ]
     },
     "execution_count": 47,
     "metadata": {},
     "output_type": "execute_result"
    }
   ],
   "source": [
    "# get the mean for all variables for every YEAR in the dataset\n",
    "data.groupby(data['Date'].dt.year).mean()"
   ]
  },
  {
   "cell_type": "markdown",
   "id": "e693d0fa-aaf9-4af5-8df5-423c8ffda4b6",
   "metadata": {},
   "source": [
    "Can we do more than one group (nested groups)? Sure! Just add another group, but make sure to encapsilate them within a **list**.    \n",
    "\n",
    "`df.groupby([group1, group2])`"
   ]
  },
  {
   "cell_type": "code",
   "execution_count": 48,
   "id": "53684302-0675-476e-8a34-7912c1abd5ed",
   "metadata": {},
   "outputs": [
    {
     "name": "stderr",
     "output_type": "stream",
     "text": [
      "/var/folders/64/t0k2b5t54z30blfdhrh_rtwh0000gn/T/ipykernel_90459/1073345808.py:2: FutureWarning: The default value of numeric_only in DataFrameGroupBy.mean is deprecated. In a future version, numeric_only will default to False. Either specify numeric_only or select only columns which should be valid for the function.\n",
      "  data.groupby([data['Station'], data['Date'].dt.day]).mean()\n"
     ]
    },
    {
     "data": {
      "text/html": [
       "<div>\n",
       "<style scoped>\n",
       "    .dataframe tbody tr th:only-of-type {\n",
       "        vertical-align: middle;\n",
       "    }\n",
       "\n",
       "    .dataframe tbody tr th {\n",
       "        vertical-align: top;\n",
       "    }\n",
       "\n",
       "    .dataframe thead th {\n",
       "        text-align: right;\n",
       "    }\n",
       "</style>\n",
       "<table border=\"1\" class=\"dataframe\">\n",
       "  <thead>\n",
       "    <tr style=\"text-align: right;\">\n",
       "      <th></th>\n",
       "      <th></th>\n",
       "      <th>Avg Temp</th>\n",
       "      <th>Max Temp</th>\n",
       "      <th>Min Temp</th>\n",
       "      <th>RH Max</th>\n",
       "      <th>RH Min</th>\n",
       "      <th>Precip</th>\n",
       "      <th>Solar Rad</th>\n",
       "    </tr>\n",
       "    <tr>\n",
       "      <th>Station</th>\n",
       "      <th>Date</th>\n",
       "      <th></th>\n",
       "      <th></th>\n",
       "      <th></th>\n",
       "      <th></th>\n",
       "      <th></th>\n",
       "      <th></th>\n",
       "      <th></th>\n",
       "    </tr>\n",
       "  </thead>\n",
       "  <tbody>\n",
       "    <tr>\n",
       "      <th rowspan=\"5\" valign=\"top\">Fort Collins</th>\n",
       "      <th>1</th>\n",
       "      <td>50.230767</td>\n",
       "      <td>63.251300</td>\n",
       "      <td>37.468933</td>\n",
       "      <td>0.820398</td>\n",
       "      <td>0.300856</td>\n",
       "      <td>0.025500</td>\n",
       "      <td>285.709615</td>\n",
       "    </tr>\n",
       "    <tr>\n",
       "      <th>2</th>\n",
       "      <td>49.999833</td>\n",
       "      <td>63.463077</td>\n",
       "      <td>36.904348</td>\n",
       "      <td>0.830238</td>\n",
       "      <td>0.307664</td>\n",
       "      <td>0.097644</td>\n",
       "      <td>299.996906</td>\n",
       "    </tr>\n",
       "    <tr>\n",
       "      <th>3</th>\n",
       "      <td>50.467081</td>\n",
       "      <td>64.126946</td>\n",
       "      <td>37.244329</td>\n",
       "      <td>0.833594</td>\n",
       "      <td>0.294117</td>\n",
       "      <td>0.056596</td>\n",
       "      <td>297.844144</td>\n",
       "    </tr>\n",
       "    <tr>\n",
       "      <th>4</th>\n",
       "      <td>49.807685</td>\n",
       "      <td>63.272215</td>\n",
       "      <td>36.982248</td>\n",
       "      <td>0.838674</td>\n",
       "      <td>0.312040</td>\n",
       "      <td>0.056356</td>\n",
       "      <td>322.375611</td>\n",
       "    </tr>\n",
       "    <tr>\n",
       "      <th>5</th>\n",
       "      <td>50.235906</td>\n",
       "      <td>63.482148</td>\n",
       "      <td>37.243658</td>\n",
       "      <td>0.827131</td>\n",
       "      <td>0.297758</td>\n",
       "      <td>0.068184</td>\n",
       "      <td>307.825000</td>\n",
       "    </tr>\n",
       "    <tr>\n",
       "      <th>...</th>\n",
       "      <th>...</th>\n",
       "      <td>...</td>\n",
       "      <td>...</td>\n",
       "      <td>...</td>\n",
       "      <td>...</td>\n",
       "      <td>...</td>\n",
       "      <td>...</td>\n",
       "      <td>...</td>\n",
       "    </tr>\n",
       "    <tr>\n",
       "      <th rowspan=\"5\" valign=\"top\">Rocky Ford</th>\n",
       "      <th>27</th>\n",
       "      <td>52.709303</td>\n",
       "      <td>69.763171</td>\n",
       "      <td>35.977944</td>\n",
       "      <td>0.853941</td>\n",
       "      <td>0.249331</td>\n",
       "      <td>0.021185</td>\n",
       "      <td>213.275714</td>\n",
       "    </tr>\n",
       "    <tr>\n",
       "      <th>28</th>\n",
       "      <td>53.072857</td>\n",
       "      <td>69.990801</td>\n",
       "      <td>37.052300</td>\n",
       "      <td>0.851512</td>\n",
       "      <td>0.253122</td>\n",
       "      <td>0.022226</td>\n",
       "      <td>208.471014</td>\n",
       "    </tr>\n",
       "    <tr>\n",
       "      <th>29</th>\n",
       "      <td>54.478470</td>\n",
       "      <td>71.600560</td>\n",
       "      <td>37.456880</td>\n",
       "      <td>0.852843</td>\n",
       "      <td>0.253142</td>\n",
       "      <td>0.036791</td>\n",
       "      <td>210.335655</td>\n",
       "    </tr>\n",
       "    <tr>\n",
       "      <th>30</th>\n",
       "      <td>54.239160</td>\n",
       "      <td>70.875344</td>\n",
       "      <td>37.899923</td>\n",
       "      <td>0.854198</td>\n",
       "      <td>0.248893</td>\n",
       "      <td>0.029351</td>\n",
       "      <td>210.849389</td>\n",
       "    </tr>\n",
       "    <tr>\n",
       "      <th>31</th>\n",
       "      <td>54.089103</td>\n",
       "      <td>70.656218</td>\n",
       "      <td>38.029870</td>\n",
       "      <td>0.866641</td>\n",
       "      <td>0.263840</td>\n",
       "      <td>0.036731</td>\n",
       "      <td>212.585449</td>\n",
       "    </tr>\n",
       "  </tbody>\n",
       "</table>\n",
       "<p>93 rows × 7 columns</p>\n",
       "</div>"
      ],
      "text/plain": [
       "                    Avg Temp   Max Temp   Min Temp    RH Max    RH Min  \\\n",
       "Station      Date                                                        \n",
       "Fort Collins 1     50.230767  63.251300  37.468933  0.820398  0.300856   \n",
       "             2     49.999833  63.463077  36.904348  0.830238  0.307664   \n",
       "             3     50.467081  64.126946  37.244329  0.833594  0.294117   \n",
       "             4     49.807685  63.272215  36.982248  0.838674  0.312040   \n",
       "             5     50.235906  63.482148  37.243658  0.827131  0.297758   \n",
       "...                      ...        ...        ...       ...       ...   \n",
       "Rocky Ford   27    52.709303  69.763171  35.977944  0.853941  0.249331   \n",
       "             28    53.072857  69.990801  37.052300  0.851512  0.253122   \n",
       "             29    54.478470  71.600560  37.456880  0.852843  0.253142   \n",
       "             30    54.239160  70.875344  37.899923  0.854198  0.248893   \n",
       "             31    54.089103  70.656218  38.029870  0.866641  0.263840   \n",
       "\n",
       "                     Precip   Solar Rad  \n",
       "Station      Date                        \n",
       "Fort Collins 1     0.025500  285.709615  \n",
       "             2     0.097644  299.996906  \n",
       "             3     0.056596  297.844144  \n",
       "             4     0.056356  322.375611  \n",
       "             5     0.068184  307.825000  \n",
       "...                     ...         ...  \n",
       "Rocky Ford   27    0.021185  213.275714  \n",
       "             28    0.022226  208.471014  \n",
       "             29    0.036791  210.335655  \n",
       "             30    0.029351  210.849389  \n",
       "             31    0.036731  212.585449  \n",
       "\n",
       "[93 rows x 7 columns]"
      ]
     },
     "execution_count": 48,
     "metadata": {},
     "output_type": "execute_result"
    }
   ],
   "source": [
    "# get the mean for each station, for each day of the month...\n",
    "data.groupby([data['Station'], data['Date'].dt.day]).mean()"
   ]
  },
  {
   "cell_type": "markdown",
   "id": "a8c6f9b5-81cf-4413-babe-64a65e2bb463",
   "metadata": {},
   "source": [
    "## Pandas Indexes\n",
    "\n",
    "Indexes can be utilized to help organize and subset data, by replacing the raw numeric row indices (like a list or array) with some part (usually a column) of the data. They are not necessary (you can still do everything with a numerically indexed dataframe), but they are necessary to understand sa some methods return data with indexes - such as the groupby method. \n",
    "\n",
    "Notice in the cell above, when the group by returns a new dataframe, the index (on the left) is shown on a lower level than the other columns, indicating it is an index and not a column. You cannot subset an index directly like we can with columns `df[\"column_name\"]` and instead need to use the `df.loc` (for locate) accessor."
   ]
  },
  {
   "cell_type": "code",
   "execution_count": 49,
   "id": "f591a5d3-7faa-4b0b-8a0d-d48042ca3741",
   "metadata": {},
   "outputs": [
    {
     "name": "stderr",
     "output_type": "stream",
     "text": [
      "/var/folders/64/t0k2b5t54z30blfdhrh_rtwh0000gn/T/ipykernel_90459/4113422257.py:4: FutureWarning: The default value of numeric_only in DataFrameGroupBy.mean is deprecated. In a future version, numeric_only will default to False. Either specify numeric_only or select only columns which should be valid for the function.\n",
      "  yearly_data = data.groupby(data['Date'].dt.year).mean()\n"
     ]
    },
    {
     "data": {
      "text/html": [
       "<div>\n",
       "<style scoped>\n",
       "    .dataframe tbody tr th:only-of-type {\n",
       "        vertical-align: middle;\n",
       "    }\n",
       "\n",
       "    .dataframe tbody tr th {\n",
       "        vertical-align: top;\n",
       "    }\n",
       "\n",
       "    .dataframe thead th {\n",
       "        text-align: right;\n",
       "    }\n",
       "</style>\n",
       "<table border=\"1\" class=\"dataframe\">\n",
       "  <thead>\n",
       "    <tr style=\"text-align: right;\">\n",
       "      <th></th>\n",
       "      <th>Avg Temp</th>\n",
       "      <th>Max Temp</th>\n",
       "      <th>Min Temp</th>\n",
       "      <th>RH Max</th>\n",
       "      <th>RH Min</th>\n",
       "      <th>Precip</th>\n",
       "      <th>Solar Rad</th>\n",
       "    </tr>\n",
       "    <tr>\n",
       "      <th>Date</th>\n",
       "      <th></th>\n",
       "      <th></th>\n",
       "      <th></th>\n",
       "      <th></th>\n",
       "      <th></th>\n",
       "      <th></th>\n",
       "      <th></th>\n",
       "    </tr>\n",
       "  </thead>\n",
       "  <tbody>\n",
       "    <tr>\n",
       "      <th>1996</th>\n",
       "      <td>40.125839</td>\n",
       "      <td>55.938066</td>\n",
       "      <td>24.869562</td>\n",
       "      <td>0.855797</td>\n",
       "      <td>0.309102</td>\n",
       "      <td>0.006684</td>\n",
       "      <td>119.003516</td>\n",
       "    </tr>\n",
       "    <tr>\n",
       "      <th>1997</th>\n",
       "      <td>49.628332</td>\n",
       "      <td>64.092447</td>\n",
       "      <td>35.375101</td>\n",
       "      <td>0.834735</td>\n",
       "      <td>0.311781</td>\n",
       "      <td>0.035120</td>\n",
       "      <td>191.467149</td>\n",
       "    </tr>\n",
       "    <tr>\n",
       "      <th>1998</th>\n",
       "      <td>51.967215</td>\n",
       "      <td>66.156700</td>\n",
       "      <td>38.501907</td>\n",
       "      <td>0.838464</td>\n",
       "      <td>0.313184</td>\n",
       "      <td>0.027867</td>\n",
       "      <td>195.442648</td>\n",
       "    </tr>\n",
       "    <tr>\n",
       "      <th>1999</th>\n",
       "      <td>52.292040</td>\n",
       "      <td>67.403347</td>\n",
       "      <td>38.047530</td>\n",
       "      <td>0.757368</td>\n",
       "      <td>0.281539</td>\n",
       "      <td>0.039414</td>\n",
       "      <td>189.213317</td>\n",
       "    </tr>\n",
       "    <tr>\n",
       "      <th>2000</th>\n",
       "      <td>52.515087</td>\n",
       "      <td>67.587375</td>\n",
       "      <td>37.869933</td>\n",
       "      <td>0.894173</td>\n",
       "      <td>0.304170</td>\n",
       "      <td>0.023773</td>\n",
       "      <td>175.585353</td>\n",
       "    </tr>\n",
       "  </tbody>\n",
       "</table>\n",
       "</div>"
      ],
      "text/plain": [
       "       Avg Temp   Max Temp   Min Temp    RH Max    RH Min    Precip  \\\n",
       "Date                                                                  \n",
       "1996  40.125839  55.938066  24.869562  0.855797  0.309102  0.006684   \n",
       "1997  49.628332  64.092447  35.375101  0.834735  0.311781  0.035120   \n",
       "1998  51.967215  66.156700  38.501907  0.838464  0.313184  0.027867   \n",
       "1999  52.292040  67.403347  38.047530  0.757368  0.281539  0.039414   \n",
       "2000  52.515087  67.587375  37.869933  0.894173  0.304170  0.023773   \n",
       "\n",
       "       Solar Rad  \n",
       "Date              \n",
       "1996  119.003516  \n",
       "1997  191.467149  \n",
       "1998  195.442648  \n",
       "1999  189.213317  \n",
       "2000  175.585353  "
      ]
     },
     "execution_count": 49,
     "metadata": {},
     "output_type": "execute_result"
    }
   ],
   "source": [
    "# create a new dataframe with a groupby function\n",
    "\n",
    "# get the mean for all variables for every YEAR in the dataset\n",
    "yearly_data = data.groupby(data['Date'].dt.year).mean()\n",
    "yearly_data.head()"
   ]
  },
  {
   "cell_type": "markdown",
   "id": "41249169-187f-4b33-9b39-8b1d7d7e88d2",
   "metadata": {},
   "source": [
    "The `Date` column has now become our index which consists only of years now. We can now use the `.loc` method to subset the data instead of the using the full column name with a conditional."
   ]
  },
  {
   "cell_type": "code",
   "execution_count": 50,
   "id": "66bec6e9-cdb7-4144-ba07-8a717173cc29",
   "metadata": {},
   "outputs": [
    {
     "data": {
      "text/plain": [
       "Avg Temp      51.967215\n",
       "Max Temp      66.156700\n",
       "Min Temp      38.501907\n",
       "RH Max         0.838464\n",
       "RH Min         0.313184\n",
       "Precip         0.027867\n",
       "Solar Rad    195.442648\n",
       "Name: 1998, dtype: float64"
      ]
     },
     "execution_count": 50,
     "metadata": {},
     "output_type": "execute_result"
    }
   ],
   "source": [
    "# get the values for the year 1998\n",
    "yearly_data.loc[1998]"
   ]
  },
  {
   "cell_type": "markdown",
   "id": "504424cb-c856-427f-83c5-cdcd8987d7b1",
   "metadata": {},
   "source": [
    "The way we previously learned this would have been: `yearly_data[yearly_data['Date'] == 1998]`\n",
    "\n",
    "Either method is totally fine. However, if you want to remove the index you can always reset the entire dataframe with `df.reset_index(inplace=True)` or add an index with `df.set_index('column_you_want_as_index', inplace=True)`."
   ]
  },
  {
   "cell_type": "markdown",
   "id": "f060caf5-08c8-48b3-962b-6a59e9cb181b",
   "metadata": {},
   "source": [
    "## Subplots with Matplotlib\n",
    "\n",
    "Often, a panel of multiple is desirable instead of only a single plot. For subplots, we'll use a slightly different convention than we are used to. Luckily, matplotlib has some [excellent documentation](https://matplotlib.org/stable/tutorials/introductory/quick_start.html).\n",
    "\n",
    "Initiate a subplot using `fig, axes = plt.subplots()`"
   ]
  },
  {
   "cell_type": "code",
   "execution_count": 51,
   "id": "cc8f21ba-bf64-4a9e-8aa4-f30427c8310c",
   "metadata": {},
   "outputs": [
    {
     "data": {
      "image/png": "[encoded data removed]",
      "text/plain": [
       "<Figure size 640x480 with 4 Axes>"
      ]
     },
     "metadata": {},
     "output_type": "display_data"
    }
   ],
   "source": [
    "# initiate a plot with 2 rows and 2 columns\n",
    "fig, axes = plt.subplots(2, 2)\n",
    "plt.show()"
   ]
  },
  {
   "cell_type": "code",
   "execution_count": 52,
   "id": "166be64e-32ca-4a56-ba3e-db67bdc2dc13",
   "metadata": {},
   "outputs": [
    {
     "data": {
      "image/png": "[encoded data removed]",
      "text/plain": [
       "<Figure size 640x480 with 2 Axes>"
      ]
     },
     "metadata": {},
     "output_type": "display_data"
    }
   ],
   "source": [
    "# initiate a plot with 2 rows and 1 column\n",
    "fig, axes = plt.subplots(2, 1)\n",
    "plt.show()"
   ]
  },
  {
   "cell_type": "markdown",
   "id": "8550dd98-80cc-4760-aea5-d2554ade4aa0",
   "metadata": {},
   "source": [
    "Once we have the axes created, we can plot things in a similar way that we are used to. However, instead of `plt.plot()` it would be `axes[index].plot()` to plot to the specific subplot you have called by index. The index refers to the position of the row or column, or both if it is two dimensional. Remember the indexes are zero-indexed."
   ]
  },
  {
   "cell_type": "code",
   "execution_count": 53,
   "id": "de42b007-b930-4978-9d3a-c461fda1083d",
   "metadata": {},
   "outputs": [
    {
     "data": {
      "image/png": "[encoded data removed]",
      "text/plain": [
       "<Figure size 1000x400 with 2 Axes>"
      ]
     },
     "metadata": {},
     "output_type": "display_data"
    }
   ],
   "source": [
    "# get some data\n",
    "x_data = yearly_data.loc[1997:2020].index\n",
    "max_temp = yearly_data.loc[1997:2020]['Max Temp']\n",
    "min_temp = yearly_data.loc[1997:2020]['Min Temp']\n",
    "\n",
    "# initiate a plot with 1 row and 2 columns\n",
    "fig, axes = plt.subplots(1, 2, figsize=(10, 4))\n",
    "\n",
    "# plot in the first axes (left if single row, top if single column)\n",
    "axes[0].bar(x_data, max_temp, color='pink')\n",
    "axes[0].set_ylim(55, 70)\n",
    "axes[0].set_ylabel('Temperature [F]')\n",
    "axes[0].set_title('Mean Max Temp')\n",
    "\n",
    "\n",
    "# plot in the second axes (left if single row, top if single column)\n",
    "axes[1].bar(x_data, min_temp, color='lightblue')\n",
    "axes[1].set_ylim(25, 40)\n",
    "axes[1].set_ylabel('Temperature [F]')\n",
    "axes[1].set_title('Mean Min Temp')\n",
    "\n",
    "plt.show()"
   ]
  },
  {
   "cell_type": "code",
   "execution_count": 54,
   "id": "847dd0a8-5443-4f8f-80eb-ef3c9a5a53f2",
   "metadata": {},
   "outputs": [
    {
     "data": {
      "image/png": "[encoded data removed]",
      "text/plain": [
       "<Figure size 1000x800 with 4 Axes>"
      ]
     },
     "metadata": {},
     "output_type": "display_data"
    }
   ],
   "source": [
    "# initiate a plot with 2 row and 2 columns\n",
    "fig, axes = plt.subplots(2, 2, figsize=(10, 8))\n",
    "\n",
    "# plot in the first axes (left if single row, top if single column)\n",
    "axes[0, 0].hist(data[\"Max Temp\"], bins=50, color='pink')\n",
    "axes[0, 1].hist(data[\"Min Temp\"], bins=50, color='lightblue')\n",
    "axes[1, 0].hist(data[\"RH Max\"], bins=50, color='blue')\n",
    "axes[1, 1].hist(data[\"RH Min\"], bins=50, color='purple')\n",
    "\n",
    "# label x-axis for each\n",
    "axes[0, 0].set_xlabel('Temperature [F]')\n",
    "axes[0, 1].set_xlabel('Temperature [F]')\n",
    "axes[1, 0].set_xlabel('Relative Humidity')\n",
    "axes[1, 1].set_xlabel('Relative Humidity')\n",
    "\n",
    "axes[1, 0].set_xlim(0, 1)\n",
    "axes[1, 1].set_xlim(0, 1)\n",
    "\n",
    "# set a title for the entore plot\n",
    "plt.suptitle('Distributions of Min / Max Temperature and RH', fontsize=20)\n",
    "\n",
    "plt.show()"
   ]
  },
  {
   "cell_type": "markdown",
   "id": "3f07e8fb-a483-42cb-8e32-203a39696589",
   "metadata": {},
   "source": [
    "# Excersises\n",
    "\n",
    "1. Use the `groupby()` method to get the **maximum** values for each **station** for each **month**. The resulting dataframe should have 36 rows (12 months * 3 stations) and assign it to a variable."
   ]
  },
  {
   "cell_type": "code",
   "execution_count": 55,
   "id": "d2fb4796-0326-40b0-b00a-6bb4ddd09aad",
   "metadata": {},
   "outputs": [],
   "source": [
    "# your code here\n"
   ]
  },
  {
   "cell_type": "markdown",
   "id": "aa493073-af1a-4ad7-a4e6-e79a65408214",
   "metadata": {},
   "source": [
    "2. Using subplots, plot each **stations** data (each station in a differnt subplot)from the data you created in the previous excersise (I would recommed using bar plots with 1 row and 3 columns). Label each plot appropriately."
   ]
  },
  {
   "cell_type": "code",
   "execution_count": 56,
   "id": "ae047674-008d-49f8-a2ad-3bc023f587de",
   "metadata": {},
   "outputs": [],
   "source": [
    "# your code here\n"
   ]
  },
  {
   "cell_type": "markdown",
   "id": "f81f20ed-0b42-4cee-b049-e6249b1066a6",
   "metadata": {},
   "source": [
    "3. Which station has, on average, the highest diurnal variation (Max - Min) in temperature in the Month of June? How much is it?\n",
    "\n",
    "Hint: Try subsetting the month first, then using a `groupby()`."
   ]
  },
  {
   "cell_type": "code",
   "execution_count": 57,
   "id": "1a74574e-14ca-4ed5-a8c8-d8a0757561b2",
   "metadata": {},
   "outputs": [],
   "source": [
    "# your code here\n"
   ]
  },
  {
   "cell_type": "code",
   "execution_count": null,
   "id": "ec1743ba-4728-4cf3-bcbe-d2b3cccbd1ad",
   "metadata": {},
   "outputs": [],
   "source": []
  }
 ],
 "metadata": {
  "kernelspec": {
   "display_name": "Python 3 (ipykernel)",
   "language": "python",
   "name": "python3"
  },
  "language_info": {
   "codemirror_mode": {
    "name": "ipython",
    "version": 3
   },
   "file_extension": ".py",
   "mimetype": "text/x-python",
   "name": "python",
   "nbconvert_exporter": "python",
   "pygments_lexer": "ipython3",
   "version": "3.10.8"
  }
 },
 "nbformat": 4,
 "nbformat_minor": 5
}
