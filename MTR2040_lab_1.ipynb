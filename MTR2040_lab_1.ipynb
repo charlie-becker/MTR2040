{
 "cells": [
  {
   "cell_type": "markdown",
   "metadata": {},
   "source": [
    "# MTR 2040 Lab 1\n",
    "## Name: (your name here)\n",
    "## Date: (insert date here)\n",
    "\n",
    "The main purpose of this lab is to introduce students to the basic fundamentals of Python. Topics include basic arithmitic, variables and variable assignment, and data structures. Lets start with some basic arithmitic."
   ]
  },
  {
   "cell_type": "markdown",
   "metadata": {},
   "source": [
    "Basic arithmitic is easy in python. Common operators:\n",
    "* \\+   for addition\n",
    "* \\-   for subtraction\n",
    "* \\*   for multiplication\n",
    "* \\/   for division\n",
    "* \\/\\/ for floor division\n",
    "* **   for exponentials \n",
    "* %    for modulo operator\n",
    "\n",
    "To run a Jupyter cell you can click on a cell then use Shift + Enter (Command + Enter on a Mac). You can also click the flipped triangle \"play\" button up top to run a cell. Run the following cell and then play around with different operators and values. Can you figure out what floor division and the modulo operator do?"
   ]
  },
  {
   "cell_type": "code",
   "execution_count": 22,
   "metadata": {},
   "outputs": [
    {
     "data": {
      "text/plain": [
       "344"
      ]
     },
     "execution_count": 22,
     "metadata": {},
     "output_type": "execute_result"
    }
   ],
   "source": [
    "300 + 44"
   ]
  },
  {
   "cell_type": "code",
   "execution_count": 27,
   "metadata": {},
   "outputs": [
    {
     "data": {
      "text/plain": [
       "11"
      ]
     },
     "execution_count": 27,
     "metadata": {},
     "output_type": "execute_result"
    }
   ],
   "source": [
    "3 * 44\n",
    "2 + 10\n",
    "14 - 3"
   ]
  },
  {
   "cell_type": "markdown",
   "metadata": {},
   "source": [
    "Python (and most programming languages) run code on a **line by line** basis, starting at the top and working its's way down. This is helpful for debugging purposes (which we'll get much more into later). \n",
    "\n",
    "In the above cell, three lines of code are executed. However, notice that the last line of code (5 * 5) is the only one that printed out the result when the cell has been run. This is by design in **Jupyter**. You can print any result explicity using the \"print\" command. Notice how in the cell below, all three lines are printed when the print function is explicitly called. However, it is fine to not use the print command if you are only interested in the result of a single line of code (the last line) in Jupyter. If you want to print text, also known as a \"string\" in programming, wrap the text around quotation marks. You can use single or double quotation marks (as long as they are consistent), but convention is to generally use double quotations."
   ]
  },
  {
   "cell_type": "code",
   "execution_count": 11,
   "metadata": {},
   "outputs": [
    {
     "name": "stdout",
     "output_type": "stream",
     "text": [
      "16\n",
      "4 squared equals: 16\n",
      "Each print statement will appear on its own line\n"
     ]
    }
   ],
   "source": [
    "print(4 ** 2)\n",
    "print(\"4 squared equals:\", 4 ** 2)\n",
    "print(\"Each print statement will appear on its own line\") "
   ]
  },
  {
   "cell_type": "markdown",
   "metadata": {},
   "source": [
    "Variables are a method to assign values to a specific refernce identity which can be tracked, changed, and referenced in other parts of the code pipeline. Variable names should strike a balnace between being self-describing and not too long. \n",
    "\n",
    "There are some rules with variable naming:\n",
    "* Varible names cannot begin with a number or symbol\n",
    "* No spaces within the name are allowed. Snake case is common for variable names which seperates words with an underscore (\"_\"), example: 'temperature_in_celcius'. CamelCase is also frequently used...\n",
    "* Case matters (temperature and Temperature names would result in two variables unrelated to one another).\n",
    "* You should never name a variable a Python \"keyword\". More on key words later, but if a word is highlighted a different color (usually green in jupyter lab), that indicates it is a key word and should not be used to name a variable. \"sum\" is an example of a keyword.\n",
    "\n",
    "Variables are assigned using a variable name = value. You can now perform operations using the varibles themselves, instead of the raw values. "
   ]
  },
  {
   "cell_type": "code",
   "execution_count": 29,
   "metadata": {},
   "outputs": [
    {
     "name": "stdout",
     "output_type": "stream",
     "text": [
      "The total snowfall in October through December was:  18.16\n"
     ]
    }
   ],
   "source": [
    "october_snowfall = 1.03 # in inches\n",
    "november_snowfall = 6.23 \n",
    "december_snowfall = 10.90\n",
    "OND_snowfall = october_snowfall + november_snowfall + december_snowfall\n",
    "\n",
    "print(\"The total snowfall in October through December was: \", OND_snowfall)"
   ]
  },
  {
   "cell_type": "markdown",
   "metadata": {},
   "source": [
    "Notice the \"inline comment\" on the first line in the aboive cell. Inline comments are denoted with the # symbol and will tell python to ignore everything to the right of that for that line of code. They can be their own lines or as a part of a line (as above)."
   ]
  },
  {
   "cell_type": "markdown",
   "metadata": {},
   "source": [
    "In python, multiple variables can be assigned simutaniously (on the same line of code). To do so, just seperate each variable name and their respective values by a comma."
   ]
  },
  {
   "cell_type": "code",
   "execution_count": 18,
   "metadata": {},
   "outputs": [
    {
     "name": "stdout",
     "output_type": "stream",
     "text": [
      "The freezing temperature in kelvin is:  273.15 K\n"
     ]
    }
   ],
   "source": [
    "t_fahrenheit, t_celcius, t_kelvin = 32, 0, 273.15\n",
    "print(\"The freezing temperature in kelvin is: \", t_kelvin, \"K\")"
   ]
  },
  {
   "cell_type": "markdown",
   "metadata": {},
   "source": [
    "When you assign a variable, they persist in memory and can be used at any point within the program. They can also be changed (reassigned) at any point within the program."
   ]
  },
  {
   "cell_type": "code",
   "execution_count": 36,
   "metadata": {},
   "outputs": [
    {
     "name": "stdout",
     "output_type": "stream",
     "text": [
      "The total snowfall in October wass:  1.03\n",
      "The total snowfall in October wass:  2.03\n"
     ]
    }
   ],
   "source": [
    "print(\"The total snowfall in October was: \", october_snowfall)\n",
    "\n",
    "# Perhaps there was an error in the data, and it needed to be corrected for\n",
    "\n",
    "october_snowfall = 2.03\n",
    "print(\"The total snowfall in October was: \", october_snowfall)"
   ]
  },
  {
   "cell_type": "code",
   "execution_count": null,
   "metadata": {},
   "outputs": [],
   "source": []
  },
  {
   "cell_type": "code",
   "execution_count": 79,
   "metadata": {},
   "outputs": [],
   "source": [
    "# import pandas as pd\n",
    "# pd.read_table('/Users/cbecker/Downloads/wxobs20100614.txt', sep=\" \", header=[0,1])"
   ]
  },
  {
   "cell_type": "code",
   "execution_count": null,
   "metadata": {},
   "outputs": [],
   "source": []
  }
 ],
 "metadata": {
  "kernelspec": {
   "display_name": "Python 3 (ipykernel)",
   "language": "python",
   "name": "python3"
  },
  "language_info": {
   "codemirror_mode": {
    "name": "ipython",
    "version": 3
   },
   "file_extension": ".py",
   "mimetype": "text/x-python",
   "name": "python",
   "nbconvert_exporter": "python",
   "pygments_lexer": "ipython3",
   "version": "3.8.12"
  }
 },
 "nbformat": 4,
 "nbformat_minor": 4
}
