{
 "cells": [
  {
   "cell_type": "code",
   "execution_count": 6,
   "metadata": {},
   "outputs": [],
   "source": [
    "import numpy as np\n",
    "import pandas as pd\n",
    "import matplotlib.pyplot as plt"
   ]
  },
  {
   "cell_type": "markdown",
   "metadata": {},
   "source": [
    "* Intro to markdown\n",
    "* Jupyter notebook navigation?\n",
    "* How to run individual cells\n",
    "* How to run all cells\n",
    "* Inline code comments\n",
    "* basic math\n",
    "* print statements\n",
    "* Data types\n",
    "* importing packages ??\n",
    "* Variables / variable assignment\n",
    "* python key words (don't name variables key words)\n",
    "* Use a complex equation for arithmitic "
   ]
  },
  {
   "cell_type": "markdown",
   "metadata": {},
   "source": [
    "Basic arithmitic is easy in python. Common operators:\n",
    "* \\+   for addition\n",
    "* \\-   for subtraction\n",
    "* \\*   for multiplication\n",
    "* \\/   for division\n",
    "* \\/\\/ for floor division\n",
    "* **   for exponentials \n",
    "* %    for modulus division \n",
    "\n",
    "To run a Jupyter cell you can click on a cell then use Shift + Enter (Command + Enter on a Mac). You can also click the flipped triangle \"play\" button up top to run a cell. Run the following cell and then play around with the different operators."
   ]
  },
  {
   "cell_type": "code",
   "execution_count": 52,
   "metadata": {},
   "outputs": [
    {
     "data": {
      "text/plain": [
       "25"
      ]
     },
     "execution_count": 52,
     "metadata": {},
     "output_type": "execute_result"
    }
   ],
   "source": [
    "4 + 4\n",
    "5 * 5"
   ]
  },
  {
   "cell_type": "markdown",
   "metadata": {},
   "source": [
    "Notice that the last line of code (5 * 5) is the only one that printed out the result when the cell has been run. This is by design in Jupyter. You can print any result explicity using the \"print\" command. However, it is fine to not use the print command if you are only interested in the result f a single line of code in Jupyter."
   ]
  },
  {
   "cell_type": "code",
   "execution_count": 57,
   "metadata": {},
   "outputs": [
    {
     "name": "stdout",
     "output_type": "stream",
     "text": [
      "8\n",
      "10\n"
     ]
    }
   ],
   "source": [
    "print(4 + 4)\n",
    "print(5 + 5)"
   ]
  },
  {
   "cell_type": "code",
   "execution_count": null,
   "metadata": {},
   "outputs": [],
   "source": []
  },
  {
   "cell_type": "markdown",
   "metadata": {},
   "source": [
    "Variables are a method to assign values to a specific refernce identity which can be tracked, changed, and referenced in other parts of the code pipeline. Variable names should strike a balnace between being self-describing and not too long. \n",
    "\n",
    "There are some rules with variable naming:\n",
    "* Varible names cannot begin with a number or symbol\n",
    "* No spaces within the name are allowed. Snake case is common for variable names which seperates words with an underscore (\"_\"), example: 'temperature_in_celcius'. CamelCase is also frequently used...\n",
    "* Case matters (temperature and Temperature names would result in two variables unrelated to one another).\n",
    "* You should never name a variable a Python \"keyword\". More on key words later, but if a word is highlighted a different color (usually green in jupyter lab), that indicates it is a key word and should not be used to name a variable. \"sum\" is an example of a keyword.\n",
    "\n",
    "Variables are assigned using the equals sign."
   ]
  },
  {
   "cell_type": "code",
   "execution_count": 59,
   "metadata": {},
   "outputs": [
    {
     "name": "stdout",
     "output_type": "stream",
     "text": [
      "The product of x and y is:  50\n"
     ]
    }
   ],
   "source": [
    "x = 5\n",
    "y = 10\n",
    "print(\"The product of x and y is: \", x * y)"
   ]
  },
  {
   "cell_type": "markdown",
   "metadata": {},
   "source": []
  }
 ],
 "metadata": {
  "kernelspec": {
   "display_name": "Python 3",
   "language": "python",
   "name": "python3"
  },
  "language_info": {
   "codemirror_mode": {
    "name": "ipython",
    "version": 3
   },
   "file_extension": ".py",
   "mimetype": "text/x-python",
   "name": "python",
   "nbconvert_exporter": "python",
   "pygments_lexer": "ipython3",
   "version": "3.7.7"
  }
 },
 "nbformat": 4,
 "nbformat_minor": 4
}
