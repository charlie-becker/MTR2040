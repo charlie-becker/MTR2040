{
 "cells": [
  {
   "cell_type": "markdown",
   "id": "4451e9b8-2427-4de9-9fa0-79bd9fd08429",
   "metadata": {},
   "source": [
    "# MTR 2040 Lab 1\n",
    "## Name: (your name here)\n",
    "## Date: (insert date here)\n",
    "\n",
    "The main purpose of this lab is to introduce students to the basic fundamentals of Python. Topics include basic arithmitic, variables and variable assignment, and data structures. Lets start with some basic arithmitic.\n",
    "\n",
    "Basic arithmitic is easy in python. Common operators:\n",
    "\n",
    "* + for addition\n",
    "* - for subtraction\n",
    "* \\* for multiplication\n",
    "* / for division\n",
    "* // for floor division\n",
    "* ** for exponentials\n",
    "* % for modulo operator\n",
    "\n",
    "To run a Jupyter cell you can click on a cell then use Shift + Enter (Command + Enter on a Mac). You can also click the flipped triangle \"play\" button up top to run a cell. Run the following cell and then play around with different operators and values. Can you figure out what floor division and the modulo operator do?\n",
    "\n"
   ]
  },
  {
   "cell_type": "code",
   "execution_count": 1,
   "id": "a98111ca-d534-4013-90eb-d23ba90a86ce",
   "metadata": {},
   "outputs": [
    {
     "data": {
      "text/plain": [
       "344"
      ]
     },
     "execution_count": 1,
     "metadata": {},
     "output_type": "execute_result"
    }
   ],
   "source": [
    "300 + 44"
   ]
  },
  {
   "cell_type": "code",
   "execution_count": 2,
   "id": "4269af76-2281-4382-9766-b9e2f3918a39",
   "metadata": {},
   "outputs": [
    {
     "data": {
      "text/plain": [
       "11"
      ]
     },
     "execution_count": 2,
     "metadata": {},
     "output_type": "execute_result"
    }
   ],
   "source": [
    "3 * 44\n",
    "2 + 10\n",
    "14 - 3"
   ]
  },
  {
   "cell_type": "markdown",
   "id": "daa348bf-90ea-44c0-8f74-d204b6c2b41d",
   "metadata": {},
   "source": [
    "Python (and most programming languages) run code on a **line by line** basis, starting at the top and working its's way down. This is helpful for debugging purposes (which we'll get much more into later).\n",
    "\n",
    "In the above cell, three lines of code are executed. However, notice that the last line of code (5 * 5) is the only one that printed out the result when the cell has been run. This is by design in **Jupyter**. You can print any result explicity using the \"print\" function. Notice how in the cell below, all three lines are printed when the print function is explicitly called. However, it is fine to not use the print function if you are only interested in the result of a single line of code (the last line) in Jupyter. If you want to print text, also known as a \"string\" in programming, wrap the text around quotation marks. You can use single or double quotation marks (as long as they are consistent), but convention is to generally use double quotations."
   ]
  },
  {
   "cell_type": "code",
   "execution_count": 3,
   "id": "df3c2b7f-548a-446b-8b6b-31db3aa59f00",
   "metadata": {},
   "outputs": [
    {
     "name": "stdout",
     "output_type": "stream",
     "text": [
      "16\n",
      "4 squared equals: 16\n",
      "Each print statement will appear on its own line\n"
     ]
    }
   ],
   "source": [
    "print(4 ** 2)\n",
    "print(\"4 squared equals:\", 4 ** 2)\n",
    "print(\"Each print statement will appear on its own line\")"
   ]
  },
  {
   "cell_type": "markdown",
   "id": "fad6c3a7-3aae-4a75-b097-cce2e4ef0ea3",
   "metadata": {},
   "source": [
    "Each print statement will appear on its own line\n",
    "Variables are a method to assign values to a specific refernce identity which can be tracked, changed, and referenced in other parts of the code pipeline. Variable names should strike a balnace between being self-describing and not too long.\n",
    "\n",
    "There are some rules with variable naming:\n",
    "\n",
    "* Varible names cannot begin with a number or symbol\n",
    "* No spaces within the name are allowed. Snake case is common for variable names which seperates words with an underscore (\"_\"), example: 'temperature_in_celcius'. CamelCase is also frequently used...\n",
    "* Case matters (temperature and Temperature names would result in two variables unrelated to one another).\n",
    "* You should never name a variable a Python \"keyword\". More on key words later, but if a word is highlighted a different color (usually green in jupyter lab), that indicates it is a key word and should not be used to name a variable. \"sum\" is an example of a keyword.\n",
    "\n",
    "Variables are assigned using a variable name = value. You can now perform operations using the varibles themselves, instead of the raw values."
   ]
  },
  {
   "cell_type": "code",
   "execution_count": 102,
   "id": "ced93aee-e799-4d90-a3a9-ab686d351949",
   "metadata": {},
   "outputs": [
    {
     "name": "stdout",
     "output_type": "stream",
     "text": [
      "The total snowfall in October through December was:  18.16\n"
     ]
    }
   ],
   "source": [
    "october_snowfall = 1.03 # in inches\n",
    "november_snowfall = 6.23 \n",
    "december_snowfall = 10.90\n",
    "OND_snowfall = october_snowfall + november_snowfall + december_snowfall\n",
    "\n",
    "print(\"The total snowfall in October through December was: \", OND_snowfall)"
   ]
  },
  {
   "cell_type": "markdown",
   "id": "002a4afc-ca24-4e66-90a8-23380a9aa683",
   "metadata": {},
   "source": [
    "Notice the **inline comment** on the first line in the aboive cell. Inline comments are denoted with the # symbol and will tell python to ignore everything to the right of that for that **line of code**. They can be their own lines or as a part of a line (as above)."
   ]
  },
  {
   "cell_type": "code",
   "execution_count": 103,
   "id": "39db010b-618e-492d-a76d-97b3978554b0",
   "metadata": {},
   "outputs": [
    {
     "name": "stdout",
     "output_type": "stream",
     "text": [
      "The total snowfall in October was:  1.03\n",
      "The total snowfall in October was:  2.03\n"
     ]
    }
   ],
   "source": [
    "print(\"The total snowfall in October was: \", october_snowfall)\n",
    "\n",
    "# Perhaps there was an error in the data, and it needed to be corrected for\n",
    "\n",
    "october_snowfall = 2.03\n",
    "print(\"The total snowfall in October was: \", october_snowfall)"
   ]
  },
  {
   "cell_type": "markdown",
   "id": "e58fdbd8-9423-4c46-9dd9-d7b45defab1e",
   "metadata": {
    "tags": []
   },
   "source": [
    "When you assign a variable, they persist in memory and can be used at any point within the program. They can also be changed (reassigned) at any point within the program."
   ]
  },
  {
   "cell_type": "markdown",
   "id": "4881b5c0-d449-40d7-aaa3-e88bf0f5b896",
   "metadata": {},
   "source": [
    "In python, multiple variables can be assigned simutaniously (on the same line of code). To do so, just seperate each variable name and their respective values by a comma."
   ]
  },
  {
   "cell_type": "code",
   "execution_count": 104,
   "id": "b7d63415-0d7e-44f5-8c75-5592d4fecca1",
   "metadata": {},
   "outputs": [
    {
     "name": "stdout",
     "output_type": "stream",
     "text": [
      "The freezing temperature in kelvin is:  273.15 K\n"
     ]
    }
   ],
   "source": [
    "t_fahrenheit, t_celcius, t_kelvin = 32, 0, 273.15\n",
    "print(\"The freezing temperature in kelvin is: \", t_kelvin, \"K\")"
   ]
  },
  {
   "cell_type": "markdown",
   "id": "e60ff7bf-22af-4788-a534-9c4154a8b73d",
   "metadata": {},
   "source": [
    "Now that we are familiar with some basic data types (strings and numeric - (both integer and float)), we can look at **data structures**. Data structures are ways to package and store data for easy manipulation. Some examples of Python data structures include: lists, tuples, and dictionaries. Lets look at some examples. Let's begin with one of the most common ones: **lists**. List are denoted by square brackets [ ], with each element of the list separated by a comma. We assign a list from scratch the same way we do a single variable."
   ]
  },
  {
   "cell_type": "code",
   "execution_count": 105,
   "id": "019fdd9f-fe9d-46be-ba5b-4fb2fac59623",
   "metadata": {},
   "outputs": [
    {
     "name": "stdout",
     "output_type": "stream",
     "text": [
      "[3, 67, 99, -45, 65, 0, 33]\n",
      "['temperature', 'dew point', 'RH']\n",
      "['Solar Radiation', 5490, '75']\n"
     ]
    }
   ],
   "source": [
    "my_list = [3, 67, 99, -45, 65, 0, 33]\n",
    "another_list = [\"temperature\", \"dew point\", \"RH\"]\n",
    "mixed_list = [\"Solar Radiation\", 5490, \"75\"] # Lists can have elements of differnt data types\n",
    "\n",
    "print(my_list)\n",
    "print(another_list)\n",
    "print(mixed_list)"
   ]
  },
  {
   "cell_type": "markdown",
   "id": "21faa07b-24c7-41d8-a457-114d8887a45f",
   "metadata": {},
   "source": [
    "You can retrieve specific elements of a list using the numeric order in which they were assigned. Python is **zero-indexed**, meaning the first element starts at zero (not one). The sytax to do so is *variable*[*numeric_index*]."
   ]
  },
  {
   "cell_type": "code",
   "execution_count": 106,
   "id": "e0f9c5c8-cb24-49ad-982d-eb6ff2dcd114",
   "metadata": {},
   "outputs": [
    {
     "name": "stdout",
     "output_type": "stream",
     "text": [
      "3\n",
      "75\n"
     ]
    }
   ],
   "source": [
    "print(my_list[0]) # get the first element of \"my_list\"\n",
    "print(mixed_list[2]) # get the third element of \"mixed_list\""
   ]
  },
  {
   "cell_type": "markdown",
   "id": "7f6a393c-ae8e-4670-93c0-2304a495abdc",
   "metadata": {},
   "source": [
    "You can get multiple sequential values from a list by using a \"range\" of values, denoted by a colon. To get the first 3 elements of a list you would use the syntax **variable[0:3]**. With this syntax, the element on the left side is inclusive, and the element on the right side is the stopping point, but is **not** included. You can also leave the element before or after the colon blank which means start at the beginning (left) or go all the way to the end (right)."
   ]
  },
  {
   "cell_type": "code",
   "execution_count": 107,
   "id": "09431a6e-76a4-4d3c-bfe2-865fd7f5c489",
   "metadata": {},
   "outputs": [
    {
     "name": "stdout",
     "output_type": "stream",
     "text": [
      "[3, 67]\n",
      "[5490, '75']\n",
      "[3, 67, 99, -45, 65]\n"
     ]
    }
   ],
   "source": [
    "print(my_list[0:2]) # get elements 0 and 1 from \"my_list\"\n",
    "print(mixed_list[1:3]) # get elements 1 and 2\n",
    "print(my_list[:5]) # get the first five elements from the list"
   ]
  },
  {
   "cell_type": "code",
   "execution_count": 108,
   "id": "8a63658f-0a90-4e40-be23-e20f4b5f7ce7",
   "metadata": {},
   "outputs": [
    {
     "name": "stdout",
     "output_type": "stream",
     "text": [
      "[32, 0, 273.15]\n"
     ]
    }
   ],
   "source": [
    "temperatures = [t_fahrenheit, t_celcius, t_kelvin] # you can use variables in lists\n",
    "print(temperatures)"
   ]
  },
  {
   "cell_type": "code",
   "execution_count": 109,
   "id": "1c786b86-4fc2-4f63-b453-0ef65023082a",
   "metadata": {},
   "outputs": [
    {
     "name": "stdout",
     "output_type": "stream",
     "text": [
      "[32, 200.45, 273.15]\n",
      "0\n"
     ]
    }
   ],
   "source": [
    "temperatures[1] = 200.45 # you can reassign values based on index\n",
    "print(temperatures)\n",
    "print(t_celcius) # notice that the original value didn't change, even though it was changed in the list"
   ]
  },
  {
   "cell_type": "code",
   "execution_count": 110,
   "id": "d2d707b0-b51d-4992-be01-4e63342014c8",
   "metadata": {},
   "outputs": [
    {
     "name": "stdout",
     "output_type": "stream",
     "text": [
      "[32, 200.45, 273.15]\n",
      "0\n"
     ]
    }
   ],
   "source": [
    "temperatures[1] = 200.45 # you can reassign values based on index\n",
    "print(temperatures)\n",
    "print(t_celcius) # notice that the original value didn't change, even though it was changed in the lsit"
   ]
  },
  {
   "cell_type": "code",
   "execution_count": 111,
   "id": "ec2862b6-e6ad-47a1-8151-0414c6000776",
   "metadata": {},
   "outputs": [
    {
     "name": "stdout",
     "output_type": "stream",
     "text": [
      "Temperaures:  [32, 200.45, 273.15]\n"
     ]
    }
   ],
   "source": [
    "all_lists = [my_list, mixed_list, temperatures] # list elements can be another list!\n",
    "print(\"Temperaures: \", all_lists[2])"
   ]
  },
  {
   "cell_type": "markdown",
   "id": "f833a536-8176-4168-90b0-1f1bd00145fa",
   "metadata": {},
   "source": [
    "The last example would be considered a \"nested list\". To get a specific value from a nested list, you index each one seprately with it's own set of indexing brackets."
   ]
  },
  {
   "cell_type": "code",
   "execution_count": 112,
   "id": "8ad28941-7f17-4c9c-a6b8-ebe1cabb6eb6",
   "metadata": {},
   "outputs": [
    {
     "name": "stdout",
     "output_type": "stream",
     "text": [
      "373.15\n"
     ]
    }
   ],
   "source": [
    "# get the third element of the third element of \"all_lists\" and add 100\n",
    "boiling_temp_kelvin = all_lists[2][2] + 100 \n",
    "print(boiling_temp_kelvin)"
   ]
  },
  {
   "cell_type": "markdown",
   "id": "319c7aa9-3965-4205-b5cd-b8bbff0dbc7f",
   "metadata": {},
   "source": [
    "The next data structure we'll talk about is a **tuple**. Tuples are denoted with parenthsis instead of brackets and are indexed the same way. The main difference is that you can't reassign values to them once they are created - which makes them a bit faster to work with. We will primarily be using lists (and arrays, more on that later), but it is good to know about them as you'll see them as you begin looking at others code."
   ]
  },
  {
   "cell_type": "code",
   "execution_count": 113,
   "id": "bae2aecf-5eed-4083-9da7-398912aa1312",
   "metadata": {},
   "outputs": [
    {
     "ename": "TypeError",
     "evalue": "'tuple' object does not support item assignment",
     "output_type": "error",
     "traceback": [
      "\u001b[0;31m---------------------------------------------------------------------------\u001b[0m",
      "\u001b[0;31mTypeError\u001b[0m                                 Traceback (most recent call last)",
      "Cell \u001b[0;32mIn[113], line 2\u001b[0m\n\u001b[1;32m      1\u001b[0m my_tuple \u001b[38;5;241m=\u001b[39m (\u001b[38;5;124m\"\u001b[39m\u001b[38;5;124msnow\u001b[39m\u001b[38;5;124m\"\u001b[39m, \u001b[38;5;124m\"\u001b[39m\u001b[38;5;124mrain\u001b[39m\u001b[38;5;124m\"\u001b[39m)\n\u001b[0;32m----> 2\u001b[0m my_tuple[\u001b[38;5;241m0\u001b[39m] \u001b[38;5;241m=\u001b[39m \u001b[38;5;124m\"\u001b[39m\u001b[38;5;124mfreezing rain\u001b[39m\u001b[38;5;124m\"\u001b[39m\n",
      "\u001b[0;31mTypeError\u001b[0m: 'tuple' object does not support item assignment"
     ]
    }
   ],
   "source": [
    "my_tuple = (\"snow\", \"rain\")\n",
    "my_tuple[0] = \"freezing rain\" # errors since it doesn't support reassignment"
   ]
  },
  {
   "cell_type": "markdown",
   "id": "bfd111f1-62e3-4944-b163-73d9095a9d6f",
   "metadata": {},
   "source": [
    "### Common built-in functions\n",
    "\n",
    "There are many helpful built in functions to help us. We already learned about the print function, let's look a couple more."
   ]
  },
  {
   "cell_type": "code",
   "execution_count": 114,
   "id": "a284624d-6af8-4a1b-8105-ebbfa92c1b1a",
   "metadata": {},
   "outputs": [
    {
     "name": "stdout",
     "output_type": "stream",
     "text": [
      "[32, 200.45, 273.15]\n",
      "3\n"
     ]
    }
   ],
   "source": [
    "print(temperatures)\n",
    "\n",
    "print(len(temperatures)) # the \"len\" function returns the length (numer of elements) of an object"
   ]
  },
  {
   "cell_type": "code",
   "execution_count": 115,
   "id": "732a4948-2ada-4aab-bfc1-158b5a21e0d0",
   "metadata": {},
   "outputs": [
    {
     "name": "stdout",
     "output_type": "stream",
     "text": [
      "7\n",
      "3\n"
     ]
    }
   ],
   "source": [
    "print(len(\"Charlie\")) # strings have a length of the number of characters\n",
    "print(len([\"Charlie\", \"Rob\", \"Emily\"])) # but the length of a list only counts the number of list elements"
   ]
  },
  {
   "cell_type": "code",
   "execution_count": 116,
   "id": "91fe55de-c60d-4d2f-b426-066a30d97fab",
   "metadata": {},
   "outputs": [
    {
     "name": "stdout",
     "output_type": "stream",
     "text": [
      "[3, 67, 99, -45, 65, 0, 33]\n",
      "The sum of my list is:  222\n",
      "The maximum values of my list is:  99\n",
      "The minimum value of my list is:  -45\n"
     ]
    }
   ],
   "source": [
    "# sum, max, min are some simple mathmatical operations\n",
    "print(my_list)\n",
    "print(\"The sum of my list is: \", sum(my_list))\n",
    "print(\"The maximum values of my list is: \", max(my_list))\n",
    "print(\"The minimum value of my list is: \", min(my_list))"
   ]
  },
  {
   "cell_type": "markdown",
   "id": "486f7caf-a7f9-43fd-8c32-3f9d8faa725c",
   "metadata": {},
   "source": [
    "You can add an element to a list (to the end) by using the append method of a list."
   ]
  },
  {
   "cell_type": "code",
   "execution_count": 117,
   "id": "62c0909b-6428-496a-a2dc-c9e0cb759648",
   "metadata": {},
   "outputs": [
    {
     "name": "stdout",
     "output_type": "stream",
     "text": [
      "[3, 67, 99, -45, 65, 0, 33]\n",
      "[3, 67, 99, -45, 65, 0, 33, 100]\n"
     ]
    }
   ],
   "source": [
    "print(my_list)\n",
    "my_list.append(100)\n",
    "print(my_list) # 100 has been added to the end of the list"
   ]
  },
  {
   "cell_type": "markdown",
   "id": "d402f8ec-8a51-488d-a18e-52ae5f7da572",
   "metadata": {},
   "source": [
    "## Excercises\n",
    "\n",
    "1. Debug / fix the following lines of cells of code."
   ]
  },
  {
   "cell_type": "code",
   "execution_count": 86,
   "id": "d6bedcd0-2bb0-4eb6-a7c0-4f41d0a2b2c5",
   "metadata": {},
   "outputs": [
    {
     "ename": "SyntaxError",
     "evalue": "Missing parentheses in call to 'print'. Did you mean print(...)? (2541426263.py, line 1)",
     "output_type": "error",
     "traceback": [
      "\u001b[0;36m  Cell \u001b[0;32mIn[86], line 1\u001b[0;36m\u001b[0m\n\u001b[0;31m    print \"This is a print statement\"\u001b[0m\n\u001b[0m    ^\u001b[0m\n\u001b[0;31mSyntaxError\u001b[0m\u001b[0;31m:\u001b[0m Missing parentheses in call to 'print'. Did you mean print(...)?\n"
     ]
    }
   ],
   "source": [
    "print \"This is a print statement\""
   ]
  },
  {
   "cell_type": "code",
   "execution_count": 87,
   "id": "f6227ff2-1fd9-4c54-bde4-0552c1d70890",
   "metadata": {},
   "outputs": [
    {
     "ename": "SyntaxError",
     "evalue": "invalid syntax. Perhaps you forgot a comma? (1286900386.py, line 1)",
     "output_type": "error",
     "traceback": [
      "\u001b[0;36m  Cell \u001b[0;32mIn[87], line 1\u001b[0;36m\u001b[0m\n\u001b[0;31m    print(the length of my_list is, my_list)\u001b[0m\n\u001b[0m          ^\u001b[0m\n\u001b[0;31mSyntaxError\u001b[0m\u001b[0;31m:\u001b[0m invalid syntax. Perhaps you forgot a comma?\n"
     ]
    }
   ],
   "source": [
    "print(the length of my_list is, my_list)"
   ]
  },
  {
   "cell_type": "code",
   "execution_count": 92,
   "id": "f9d7c478-e108-4836-8658-5f3f52850113",
   "metadata": {},
   "outputs": [
    {
     "ename": "SyntaxError",
     "evalue": "incomplete input (2776501118.py, line 1)",
     "output_type": "error",
     "traceback": [
      "\u001b[0;36m  Cell \u001b[0;32mIn[92], line 1\u001b[0;36m\u001b[0m\n\u001b[0;31m    print(\"The third element of the temperatures list is \", temperatures[3]\u001b[0m\n\u001b[0m                                                                           ^\u001b[0m\n\u001b[0;31mSyntaxError\u001b[0m\u001b[0;31m:\u001b[0m incomplete input\n"
     ]
    }
   ],
   "source": [
    "print(\"The third element of the temperatures list is \", temperatures[3]"
   ]
  },
  {
   "cell_type": "markdown",
   "id": "dfc673c6-2fb5-4aff-990e-897aa6d40ac2",
   "metadata": {},
   "source": [
    "2. Create a list of 10 elements of relative humidity values and print the last three elements using two differnt indexing techniques."
   ]
  },
  {
   "cell_type": "code",
   "execution_count": 96,
   "id": "51e83ffc-5909-4651-bd73-bdc8dbe9dfd0",
   "metadata": {},
   "outputs": [],
   "source": [
    "# your code here\n"
   ]
  },
  {
   "cell_type": "markdown",
   "id": "0f00da8a-d03a-4948-9ac7-0f3803af31ae",
   "metadata": {},
   "source": [
    "3. Convert the dewpoint_in_f to celsius and assign it to a variable in one line of code."
   ]
  },
  {
   "cell_type": "code",
   "execution_count": 94,
   "id": "b3228bbd-5de7-4bba-bc01-54b9600a7225",
   "metadata": {},
   "outputs": [],
   "source": [
    "dewpoint_in_f = 52.6\n",
    "\n",
    "# your code here\n"
   ]
  },
  {
   "cell_type": "markdown",
   "id": "b537359c-2278-4554-ac36-b32c63348529",
   "metadata": {},
   "source": [
    "4. Create a nested list (at least 4 elements in each list) and print the third and fourth element of the second list."
   ]
  },
  {
   "cell_type": "code",
   "execution_count": 98,
   "id": "4525aab6-b691-4ea1-ab98-595103b2d524",
   "metadata": {},
   "outputs": [],
   "source": [
    "# Your code here\n"
   ]
  },
  {
   "cell_type": "code",
   "execution_count": null,
   "id": "ccd3febe-cabc-43b9-8838-db15af5cfae2",
   "metadata": {},
   "outputs": [],
   "source": []
  }
 ],
 "metadata": {
  "kernelspec": {
   "display_name": "Python 3 (ipykernel)",
   "language": "python",
   "name": "python3"
  },
  "language_info": {
   "codemirror_mode": {
    "name": "ipython",
    "version": 3
   },
   "file_extension": ".py",
   "mimetype": "text/x-python",
   "name": "python",
   "nbconvert_exporter": "python",
   "pygments_lexer": "ipython3",
   "version": "3.10.8"
  }
 },
 "nbformat": 4,
 "nbformat_minor": 5
}
