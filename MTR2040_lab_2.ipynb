{
 "cells": [
  {
   "cell_type": "markdown",
   "id": "9906c353-bae2-48bf-b247-ad8098d82a1f",
   "metadata": {},
   "source": [
    "# MTR 2040 Lab 2\n",
    "## Name: (your name here)\n",
    "## Date: (insert date here)\n",
    "\n",
    "The main purpose of this lab is to introduce students to the basic fundamentals of Python. Topics include basic arithmitic, variables and variable assignment, and data structures. Lets start with some basic arithmitic."
   ]
  },
  {
   "cell_type": "markdown",
   "id": "76339ee0-6f1f-4f21-96d0-7300f9160140",
   "metadata": {},
   "source": [
    "### Importing libraries / packages\n",
    "\n",
    "There are many extremely useful libraries people have developed to aid in scientific analysis (or any functionality). Since these libraries are not a part of \"base\" Python, we need to install them and then explicity import them. The packages have already been installed for you, but we still need to import them.\n",
    "\n",
    "For this lab we'll be exploring the Numpy (numerical Python) library.\n",
    "\n",
    "to import an installed library use the **import \\<library_name>**\n",
    "\n",
    "The **as** \\<your alias> is a common convienence to use an abbriviation for the library \n",
    "\n",
    "The period after a library means you are importing a specific funciton / class / method from the library and not the entire package. So for the matplotlib library, we are importing the pyplot functionality and setting it to the alias **'plt'** (for plot). \n",
    "\n",
    "It is most common to import your libraries at the top of the program, although it's not necessary as long as it is imported before it is called (remember code is read line by line starting at the top). "
   ]
  },
  {
   "cell_type": "code",
   "execution_count": 63,
   "id": "d2d3564f-893d-4d6c-812e-01ff695970ec",
   "metadata": {},
   "outputs": [],
   "source": [
    "import numpy as np"
   ]
  },
  {
   "cell_type": "markdown",
   "id": "c2445ea7-8768-4d8d-bdd5-786b07321902",
   "metadata": {},
   "source": [
    "### Basic Numpy\n",
    "\n",
    "Numpy has a specific data type we have not discussed yet, arrays. They are very similar to lists (in fact they are internally comprised of lists) and are indexed the same way. The main advantage of arrays is that you can perform complex mathematical / statistical operations on every element of the array in a fast way. It also allows for easy reshaping of n-dimentional space (such as a 3D array with x, y and z coordinates) to make computation easier and more tractable. The [documentation of numpy](https://numpy.org/doc/stable/user/absolute_beginners.html) is clean and quite extensive. \n",
    "\n",
    "You can also use numpy's mathematical operations on some of the datatypes you already know, like lists and tuples. To use a funciton within the numpy package, you start with the **np.\\<function_name>** Let's try it."
   ]
  },
  {
   "cell_type": "code",
   "execution_count": 64,
   "id": "c0c12739-289c-4f0e-8954-0da59c7fed20",
   "metadata": {},
   "outputs": [
    {
     "data": {
      "text/plain": [
       "42.6"
      ]
     },
     "execution_count": 64,
     "metadata": {},
     "output_type": "execute_result"
    }
   ],
   "source": [
    "temperatures = [11, 12, 34, 57, 99]\n",
    "dewpoints = [9, 9, 22, 51, 45]\n",
    "np.mean(temperatures) # calculate the mean of the temperature list"
   ]
  },
  {
   "cell_type": "markdown",
   "id": "b14a4801-3a80-43d5-b7e6-33e63150fc3c",
   "metadata": {},
   "source": [
    "There are A LOT of numpy funcitons, so don't hesitate to Google them. You'll quickly memorize some of the most common ones, such as the basic statistics (mean, median, max, min, ...). "
   ]
  },
  {
   "cell_type": "code",
   "execution_count": 65,
   "id": "5b8a7c4f-d1ed-4b79-84bd-f6337f5aa1aa",
   "metadata": {},
   "outputs": [
    {
     "name": "stdout",
     "output_type": "stream",
     "text": [
      "11\n",
      "99\n"
     ]
    }
   ],
   "source": [
    "print(np.min(temperatures))\n",
    "print(np.max(temperatures))"
   ]
  },
  {
   "cell_type": "markdown",
   "id": "7eb80f40-2735-4032-b500-7509082cf88c",
   "metadata": {},
   "source": [
    "So far, all the fuctions we have used have only taken a single argument. However, functions can take many arguments is the function is designed that way. The **np.quantile** function is one such example: it needs the first argument to be the object to operate on, and the second argument to be the value for the quantile to calculate. Take a look at the numpy.quantile [documentation](https://numpy.org/doc/stable/reference/generated/numpy.quantile.html).  \n",
    "\n",
    "Note that from the documentation, the quantile needs to be a value from 0 - 100. "
   ]
  },
  {
   "cell_type": "code",
   "execution_count": 66,
   "id": "8efb1e59-fd27-4dc5-b378-fdd14a42f643",
   "metadata": {},
   "outputs": [
    {
     "name": "stdout",
     "output_type": "stream",
     "text": [
      "The 30th percentile of our temperature list is:  16.4\n"
     ]
    }
   ],
   "source": [
    "print(\"The 30th percentile of our temperature list is: \", np.percentile(temperatures, 30))"
   ]
  },
  {
   "cell_type": "markdown",
   "id": "50b902d8-866e-45cc-94a1-26530df6ab88",
   "metadata": {},
   "source": [
    "Element-wise mathematical operations don't work on raw lists, but do on numpy arrays (this is the main functionality of numpy)."
   ]
  },
  {
   "cell_type": "code",
   "execution_count": 67,
   "id": "f5031310-4281-4b9f-bacf-0399212d57d0",
   "metadata": {},
   "outputs": [
    {
     "ename": "TypeError",
     "evalue": "unsupported operand type(s) for -: 'list' and 'list'",
     "output_type": "error",
     "traceback": [
      "\u001b[0;31m---------------------------------------------------------------------------\u001b[0m",
      "\u001b[0;31mTypeError\u001b[0m                                 Traceback (most recent call last)",
      "Cell \u001b[0;32mIn[67], line 1\u001b[0m\n\u001b[0;32m----> 1\u001b[0m temp_dew_diff \u001b[38;5;241m=\u001b[39m \u001b[43mtemperatures\u001b[49m\u001b[43m \u001b[49m\u001b[38;5;241;43m-\u001b[39;49m\u001b[43m \u001b[49m\u001b[43mdewpoints\u001b[49m\n",
      "\u001b[0;31mTypeError\u001b[0m: unsupported operand type(s) for -: 'list' and 'list'"
     ]
    }
   ],
   "source": [
    "temp_dew_diff = temperatures - dewpoints # errors because both are lists"
   ]
  },
  {
   "cell_type": "code",
   "execution_count": 68,
   "id": "8719a2f4-7d54-4a3c-a62e-358dcdbacb33",
   "metadata": {},
   "outputs": [
    {
     "data": {
      "text/plain": [
       "array([ 2,  3, 12,  6, 54])"
      ]
     },
     "execution_count": 68,
     "metadata": {},
     "output_type": "execute_result"
    }
   ],
   "source": [
    " # works if converted to arrays, output is of type 'array'\n",
    "temp_dew_diff = np.array(temperatures) - np.array(dewpoints)\n",
    "temp_dew_diff"
   ]
  },
  {
   "cell_type": "code",
   "execution_count": 69,
   "id": "08604761-85ba-4c32-8762-9ebab3d7b485",
   "metadata": {},
   "outputs": [
    {
     "data": {
      "text/plain": [
       "array([12,  6, 54])"
      ]
     },
     "execution_count": 69,
     "metadata": {},
     "output_type": "execute_result"
    }
   ],
   "source": [
    "# is indexed the same way as a list\n",
    "temp_dew_diff[2:] # start at the 2nd index (3rd element) and get the remaining values"
   ]
  },
  {
   "cell_type": "code",
   "execution_count": 70,
   "id": "0eeee6ad-8836-44da-af46-c6003bd5ccc0",
   "metadata": {},
   "outputs": [
    {
     "data": {
      "text/plain": [
       "array([ 1,  2, 11,  5, 53])"
      ]
     },
     "execution_count": 70,
     "metadata": {},
     "output_type": "execute_result"
    }
   ],
   "source": [
    "# you can also use a single value to be mathematically applied to every element\n",
    "temp_dew_diff - 1 # subtracts 1 from every element of the array"
   ]
  },
  {
   "cell_type": "markdown",
   "id": "8ca771f4-6c90-4153-9ac6-f5d33607249a",
   "metadata": {},
   "source": [
    "### Flow control\n",
    "\n",
    "Controlling the \"flow\" of operations in Python becomes increasingly critical as programs become more complex. There are many ways in which you can do this, but they are often in the form of conditionals such as **if** statements and **for** loops.\n",
    "\n",
    "**Indentation matters** in python, and often does not matter in other languages, specifically for flow control. For example, after an **if** statement or **for** loop is initiated, all code within that statement **must be indented with a tab** (or 4 spaces).\n",
    "\n",
    "Three common flow operators (conditions) are '<' (less than), '>' (greater than) and '==' (equal to). Notice the **double** equals sign. The '==' denotes that it is **checking for equality**, whereas '=' tries to assign a value to a variable.\n",
    "\n",
    "Control statements need a colon at the end of the line to denote where it begins."
   ]
  },
  {
   "cell_type": "code",
   "execution_count": 71,
   "id": "862e16d8-9ac2-463a-b7e8-b8347950d72d",
   "metadata": {},
   "outputs": [],
   "source": [
    "denver_temp_f = 23.4\n",
    "if denver_temp_f > 25:\n",
    "    print(denver_temp_f) # indentation needed since it is within the control statement\n",
    "    \n",
    "# It fails to print since the condition was not satisfied"
   ]
  },
  {
   "cell_type": "code",
   "execution_count": 72,
   "id": "b14a6100-d162-4a72-bb48-324639e2645c",
   "metadata": {},
   "outputs": [
    {
     "data": {
      "text/plain": [
       "False"
      ]
     },
     "execution_count": 72,
     "metadata": {},
     "output_type": "execute_result"
    }
   ],
   "source": [
    "# we can evaluate the equality manually\n",
    "\n",
    "# This is essentially asking: is this variable (denver_temp_f) greater than 25? (Can only be True or False)\n",
    "denver_temp_f > 25  \n",
    "\n",
    "# if statements only execute if the condition evaluates to True"
   ]
  },
  {
   "cell_type": "code",
   "execution_count": 73,
   "id": "eab34fdc-a19c-4faf-a9e6-86a9956ef424",
   "metadata": {},
   "outputs": [
    {
     "data": {
      "text/plain": [
       "True"
      ]
     },
     "execution_count": 73,
     "metadata": {},
     "output_type": "execute_result"
    }
   ],
   "source": [
    "# Double equal sigh does not assign it, but asks: is (left of the ==) equal to (right of the ==)?\n",
    "denver_temp_f == 23.4"
   ]
  },
  {
   "cell_type": "code",
   "execution_count": 74,
   "id": "9e727d48-a0b3-4d51-acb6-1634b939be17",
   "metadata": {},
   "outputs": [
    {
     "name": "stdout",
     "output_type": "stream",
     "text": [
      "Temperature is less than 25 degrees.\n"
     ]
    }
   ],
   "source": [
    "# we can add additional constraints to our condition with elif (else if) or else (anything else)\n",
    "\n",
    "denver_temp_f = 21.4\n",
    "if denver_temp_f > 25:\n",
    "    print(\"Temperature is greater than 25 degrees.\") # indentation needed since it is within the control statement\n",
    "elif denver_temp_f < 25:\n",
    "    print(\"Temperature is less than 25 degrees.\")\n",
    "else:    # only evaluate if neither of the other conditions evaluate to True\n",
    "    print(\"Temperature is 25 degrees.\")"
   ]
  },
  {
   "cell_type": "markdown",
   "id": "1bf4bc2a-2947-4eba-878c-4f6bd3d7245e",
   "metadata": {},
   "source": [
    "#### For loops\n",
    "\n",
    "For loops are very common in programmaing and are a way to **iterate** through a list, array, etc. and then do something.\n",
    "\n",
    "**The variable name that comes after the \"for\" keyword denotes a new variable that gets reassigned at each iteration of the loop** (in this case temp). The \"in\" key word denotes which object we want to iterate over."
   ]
  },
  {
   "cell_type": "code",
   "execution_count": 75,
   "id": "8d87ee6d-70c2-4a9c-aea9-cfb3363fce60",
   "metadata": {},
   "outputs": [
    {
     "name": "stdout",
     "output_type": "stream",
     "text": [
      "11\n",
      "12\n",
      "34\n",
      "57\n",
      "99\n"
     ]
    }
   ],
   "source": [
    "# print each value of our temperature variable\n",
    "for temp in temperatures:\n",
    "    print(temp) # note the indentation"
   ]
  },
  {
   "cell_type": "markdown",
   "id": "b1a47ef4-713c-40cb-a7cc-ba7b25f459dc",
   "metadata": {},
   "source": [
    "The following code produces the exact same output - can you understand why? If not, study this carefully - **this is fundamental to understanding for loops**."
   ]
  },
  {
   "cell_type": "code",
   "execution_count": 76,
   "id": "da19d5dd-82d4-427c-be54-34ebfa3835b4",
   "metadata": {},
   "outputs": [
    {
     "name": "stdout",
     "output_type": "stream",
     "text": [
      "11\n",
      "12\n",
      "34\n",
      "57\n",
      "99\n"
     ]
    }
   ],
   "source": [
    "for i in [0, 1, 2, 3, 4]:\n",
    "    print(temperatures[i])"
   ]
  },
  {
   "cell_type": "code",
   "execution_count": 77,
   "id": "b724026f-21a6-4af3-8882-bd86c6f20eae",
   "metadata": {},
   "outputs": [
    {
     "name": "stdout",
     "output_type": "stream",
     "text": [
      "12\n",
      "34\n",
      "57\n"
     ]
    }
   ],
   "source": [
    "# print the variables of certrain indices\n",
    "for temp in temperatures[1:4]:\n",
    "    print(temp) # note the indentation"
   ]
  },
  {
   "cell_type": "code",
   "execution_count": 78,
   "id": "3b4c1e8b-45db-4fa0-a2cf-b8e1cd60ee95",
   "metadata": {},
   "outputs": [
    {
     "name": "stdout",
     "output_type": "stream",
     "text": [
      "11 is below freezing.\n",
      "12 is below freezing.\n",
      "34 is above freezing.\n",
      "57 is above freezing.\n",
      "99 is above freezing.\n"
     ]
    }
   ],
   "source": [
    "# let's combine a for loop and if statements\n",
    "for t in temperatures:\n",
    "    if t > 32: \n",
    "        print(t, \"is above freezing.\") # note the nested indentation\n",
    "    elif t < 32:\n",
    "        print(t, \"is below freezing.\")\n",
    "    else:\n",
    "        print(t, \"is at the freezing temperature.\") "
   ]
  },
  {
   "cell_type": "markdown",
   "id": "e1d30b19-20c4-411a-b7aa-b0c6796412c2",
   "metadata": {},
   "source": [
    "Another very common built-in funciton is the **range()** function. By default, the range function will start at zero and iterate by 1 until the specified value. "
   ]
  },
  {
   "cell_type": "code",
   "execution_count": 79,
   "id": "743f730c-1cbc-459a-96f9-f09c853907f6",
   "metadata": {},
   "outputs": [
    {
     "name": "stdout",
     "output_type": "stream",
     "text": [
      "0\n",
      "1\n",
      "2\n",
      "3\n",
      "4\n",
      "5\n",
      "6\n",
      "7\n",
      "8\n",
      "9\n"
     ]
    }
   ],
   "source": [
    "for i in range(10): # i is very common in programming - short for \"index\"\n",
    "    print(i)"
   ]
  },
  {
   "cell_type": "code",
   "execution_count": 80,
   "id": "9d312ecc-8063-4d84-9520-3cd16ff183f5",
   "metadata": {},
   "outputs": [
    {
     "name": "stdout",
     "output_type": "stream",
     "text": [
      "5\n",
      "6\n",
      "7\n",
      "8\n",
      "9\n"
     ]
    }
   ],
   "source": [
    "# if there are two arguments added, it will relate to \"start\" and \"end\"\n",
    "for i in range(5, 10): # i is very common in programming - short for \"index\"\n",
    "    print(i)"
   ]
  },
  {
   "cell_type": "code",
   "execution_count": 81,
   "id": "0d4b4c78-0614-4b75-a80c-b09cb907e064",
   "metadata": {},
   "outputs": [
    {
     "name": "stdout",
     "output_type": "stream",
     "text": [
      "0\n",
      "2\n",
      "4\n",
      "6\n",
      "8\n"
     ]
    }
   ],
   "source": [
    "# if three arguments are included, the third argument would be \"by\" (defualt is 1)\n",
    "for i in range(0, 10, 2):\n",
    "    print(i)"
   ]
  },
  {
   "cell_type": "markdown",
   "id": "4ffc4c9b-8c07-4572-a576-64cac4dbee09",
   "metadata": {},
   "source": [
    "### Function Creation\n",
    "\n",
    "Funcitons are at the heart of programming. There are many built in functions that we have already used, but what if we want to do something unique that isn't included in our libraries? We create it ourself!\n",
    "\n",
    "Custom functions are denoted with the key word **def** (define) for defining what our function will do. Functions generally have an input (argument, or more than one argument) and an output (also known as a return value). The return value is denoted with the **return** key word.\n",
    "\n",
    "Let's make a simple function to add 100 to a value. "
   ]
  },
  {
   "cell_type": "code",
   "execution_count": 82,
   "id": "da4e7da4-e866-4740-873d-edc845acea60",
   "metadata": {},
   "outputs": [],
   "source": [
    "# define a function that adds 100 to its input\n",
    "def add_100(value):\n",
    "    \n",
    "    new_value = value + 100\n",
    "    \n",
    "    return new_value"
   ]
  },
  {
   "cell_type": "markdown",
   "id": "80ff984e-f111-40f5-b1ff-596fb5b1e7d7",
   "metadata": {},
   "source": [
    "We have now defined our function and named it **add_100**. All functions need to have parenthesis after the name, with the arguments inside (seperated by a comma if more than one). It then needs a colon to signal the work of the function begins, and needs to be indented like the flow control statememnts. The argument names (in this case, \"value\" can be named anything you like (just like a variable), except that variable can only be accessed within the function itself. Let's see if it works.\n",
    "\n",
    "Once you define a function, it can be used anywhere in the code which is quite powerful."
   ]
  },
  {
   "cell_type": "code",
   "execution_count": 83,
   "id": "f0f60d1b-243d-430e-8325-9c9f87cbf678",
   "metadata": {},
   "outputs": [
    {
     "data": {
      "text/plain": [
       "150"
      ]
     },
     "execution_count": 83,
     "metadata": {},
     "output_type": "execute_result"
    }
   ],
   "source": [
    "add_100(50) # it works!"
   ]
  },
  {
   "cell_type": "code",
   "execution_count": 84,
   "id": "0aea2c54-fa53-4446-bccd-46026b55a01d",
   "metadata": {},
   "outputs": [],
   "source": [
    "# Lets make a more useful function\n",
    "\n",
    "def f_to_c_converter(temp_f):\n",
    "    \n",
    "    # convert temperature from fahrenheit to celsius\n",
    "    temp_c = (temp_f - 32) * (5/9)\n",
    "    return temp_c"
   ]
  },
  {
   "cell_type": "code",
   "execution_count": 85,
   "id": "6ca1f519-b826-4fe3-9d5b-9b63cc996127",
   "metadata": {},
   "outputs": [
    {
     "data": {
      "text/plain": [
       "100.0"
      ]
     },
     "execution_count": 85,
     "metadata": {},
     "output_type": "execute_result"
    }
   ],
   "source": [
    "f_to_c_converter(212) # seems to work!"
   ]
  },
  {
   "cell_type": "code",
   "execution_count": 86,
   "id": "0dfe76cf-5081-4ffc-ba7f-f81682e882ba",
   "metadata": {},
   "outputs": [
    {
     "name": "stdout",
     "output_type": "stream",
     "text": [
      "[-11.666666666666668, -11.11111111111111, 1.1111111111111112, 13.88888888888889, 37.22222222222222]\n"
     ]
    }
   ],
   "source": [
    "# Lets put some stuff together\n",
    "\n",
    "temps_in_celsius = [] # initate a blank list that we can append to\n",
    "for i in range(len(temperatures)):\n",
    "    temp_f = temperatures[i]\n",
    "    temp_c = f_to_c_converter(temp_f)\n",
    "    temps_in_celsius.append(temp_c)\n",
    "print(temps_in_celsius)    "
   ]
  },
  {
   "cell_type": "markdown",
   "id": "90109b55-a5a3-461a-ad94-5b0c7b88b46e",
   "metadata": {},
   "source": [
    "Let's unpack whats going on in the previous cell.\n",
    "* First we declare a blank list so we can append new values (celsius temperatures)\n",
    "* Second, we iterate through **the indices** of temperatures by giving the range function the length of temperatures\n",
    "    * We could have iterated through the temperatures directly, but sometimes it is useful to have the indices instead of the value itself - often times you may want to keep track of the indices so you could use the index on a differnt list, for example.\n",
    "* Third, We assign the temp_f variable to the current index of temperatures\n",
    "* Fourth, we convert the temperature to celsius and assign it to a variable\n",
    "* Lastly, we append the new celsius value to the list we had created\n",
    "\n",
    "If this is still a little confusing, dont be worried, it takes some time for this to make intuitve sense. But know that something like this is a very common workflow - iterate, do something each iteration, save result somewhere.\n",
    "\n",
    "That being said, for this example, we have a much simpler solution - feed our array to the function (remember math can be done on each element of an array)."
   ]
  },
  {
   "cell_type": "code",
   "execution_count": 87,
   "id": "e5a992ef-fc7b-492d-a8c8-f11d2f0b7fb9",
   "metadata": {},
   "outputs": [
    {
     "data": {
      "text/plain": [
       "array([-11.66666667, -11.11111111,   1.11111111,  13.88888889,\n",
       "        37.22222222])"
      ]
     },
     "execution_count": 87,
     "metadata": {},
     "output_type": "execute_result"
    }
   ],
   "source": [
    "f_to_c_converter(np.array(temperatures))"
   ]
  },
  {
   "cell_type": "markdown",
   "id": "6223ade8-8e33-40f6-a1e1-19499abb726f",
   "metadata": {},
   "source": [
    "## Excercises\n",
    "\n",
    "1. Debug the following lines of code."
   ]
  },
  {
   "cell_type": "code",
   "execution_count": 88,
   "id": "022067c5-d3cf-4848-bcfe-f0eb72b78986",
   "metadata": {},
   "outputs": [
    {
     "ename": "TypeError",
     "evalue": "'str' object cannot be interpreted as an integer",
     "output_type": "error",
     "traceback": [
      "\u001b[0;31m---------------------------------------------------------------------------\u001b[0m",
      "\u001b[0;31mTypeError\u001b[0m                                 Traceback (most recent call last)",
      "Cell \u001b[0;32mIn[88], line 1\u001b[0m\n\u001b[0;32m----> 1\u001b[0m mean_temp \u001b[38;5;241m=\u001b[39m \u001b[43mnp\u001b[49m\u001b[38;5;241;43m.\u001b[39;49m\u001b[43mmean\u001b[49m\u001b[43m(\u001b[49m\u001b[38;5;124;43m\"\u001b[39;49m\u001b[38;5;124;43m21\u001b[39;49m\u001b[38;5;124;43m\"\u001b[39;49m\u001b[43m,\u001b[49m\u001b[43m \u001b[49m\u001b[38;5;124;43m\"\u001b[39;49m\u001b[38;5;124;43m43\u001b[39;49m\u001b[38;5;124;43m\"\u001b[39;49m\u001b[43m,\u001b[49m\u001b[43m \u001b[49m\u001b[38;5;124;43m\"\u001b[39;49m\u001b[38;5;124;43m65\u001b[39;49m\u001b[38;5;124;43m\"\u001b[39;49m\u001b[43m)\u001b[49m\n",
      "File \u001b[0;32m<__array_function__ internals>:180\u001b[0m, in \u001b[0;36mmean\u001b[0;34m(*args, **kwargs)\u001b[0m\n",
      "File \u001b[0;32m~/miniconda3/envs/MTR/lib/python3.10/site-packages/numpy/core/fromnumeric.py:3432\u001b[0m, in \u001b[0;36mmean\u001b[0;34m(a, axis, dtype, out, keepdims, where)\u001b[0m\n\u001b[1;32m   3429\u001b[0m     \u001b[38;5;28;01melse\u001b[39;00m:\n\u001b[1;32m   3430\u001b[0m         \u001b[38;5;28;01mreturn\u001b[39;00m mean(axis\u001b[38;5;241m=\u001b[39maxis, dtype\u001b[38;5;241m=\u001b[39mdtype, out\u001b[38;5;241m=\u001b[39mout, \u001b[38;5;241m*\u001b[39m\u001b[38;5;241m*\u001b[39mkwargs)\n\u001b[0;32m-> 3432\u001b[0m \u001b[38;5;28;01mreturn\u001b[39;00m \u001b[43m_methods\u001b[49m\u001b[38;5;241;43m.\u001b[39;49m\u001b[43m_mean\u001b[49m\u001b[43m(\u001b[49m\u001b[43ma\u001b[49m\u001b[43m,\u001b[49m\u001b[43m \u001b[49m\u001b[43maxis\u001b[49m\u001b[38;5;241;43m=\u001b[39;49m\u001b[43maxis\u001b[49m\u001b[43m,\u001b[49m\u001b[43m \u001b[49m\u001b[43mdtype\u001b[49m\u001b[38;5;241;43m=\u001b[39;49m\u001b[43mdtype\u001b[49m\u001b[43m,\u001b[49m\n\u001b[1;32m   3433\u001b[0m \u001b[43m                      \u001b[49m\u001b[43mout\u001b[49m\u001b[38;5;241;43m=\u001b[39;49m\u001b[43mout\u001b[49m\u001b[43m,\u001b[49m\u001b[43m \u001b[49m\u001b[38;5;241;43m*\u001b[39;49m\u001b[38;5;241;43m*\u001b[39;49m\u001b[43mkwargs\u001b[49m\u001b[43m)\u001b[49m\n",
      "File \u001b[0;32m~/miniconda3/envs/MTR/lib/python3.10/site-packages/numpy/core/_methods.py:168\u001b[0m, in \u001b[0;36m_mean\u001b[0;34m(a, axis, dtype, out, keepdims, where)\u001b[0m\n\u001b[1;32m    164\u001b[0m arr \u001b[38;5;241m=\u001b[39m asanyarray(a)\n\u001b[1;32m    166\u001b[0m is_float16_result \u001b[38;5;241m=\u001b[39m \u001b[38;5;28;01mFalse\u001b[39;00m\n\u001b[0;32m--> 168\u001b[0m rcount \u001b[38;5;241m=\u001b[39m \u001b[43m_count_reduce_items\u001b[49m\u001b[43m(\u001b[49m\u001b[43marr\u001b[49m\u001b[43m,\u001b[49m\u001b[43m \u001b[49m\u001b[43maxis\u001b[49m\u001b[43m,\u001b[49m\u001b[43m \u001b[49m\u001b[43mkeepdims\u001b[49m\u001b[38;5;241;43m=\u001b[39;49m\u001b[43mkeepdims\u001b[49m\u001b[43m,\u001b[49m\u001b[43m \u001b[49m\u001b[43mwhere\u001b[49m\u001b[38;5;241;43m=\u001b[39;49m\u001b[43mwhere\u001b[49m\u001b[43m)\u001b[49m\n\u001b[1;32m    169\u001b[0m \u001b[38;5;28;01mif\u001b[39;00m rcount \u001b[38;5;241m==\u001b[39m \u001b[38;5;241m0\u001b[39m \u001b[38;5;28;01mif\u001b[39;00m where \u001b[38;5;129;01mis\u001b[39;00m \u001b[38;5;28;01mTrue\u001b[39;00m \u001b[38;5;28;01melse\u001b[39;00m umr_any(rcount \u001b[38;5;241m==\u001b[39m \u001b[38;5;241m0\u001b[39m, axis\u001b[38;5;241m=\u001b[39m\u001b[38;5;28;01mNone\u001b[39;00m):\n\u001b[1;32m    170\u001b[0m     warnings\u001b[38;5;241m.\u001b[39mwarn(\u001b[38;5;124m\"\u001b[39m\u001b[38;5;124mMean of empty slice.\u001b[39m\u001b[38;5;124m\"\u001b[39m, \u001b[38;5;167;01mRuntimeWarning\u001b[39;00m, stacklevel\u001b[38;5;241m=\u001b[39m\u001b[38;5;241m2\u001b[39m)\n",
      "File \u001b[0;32m~/miniconda3/envs/MTR/lib/python3.10/site-packages/numpy/core/_methods.py:76\u001b[0m, in \u001b[0;36m_count_reduce_items\u001b[0;34m(arr, axis, keepdims, where)\u001b[0m\n\u001b[1;32m     74\u001b[0m     items \u001b[38;5;241m=\u001b[39m \u001b[38;5;241m1\u001b[39m\n\u001b[1;32m     75\u001b[0m     \u001b[38;5;28;01mfor\u001b[39;00m ax \u001b[38;5;129;01min\u001b[39;00m axis:\n\u001b[0;32m---> 76\u001b[0m         items \u001b[38;5;241m*\u001b[39m\u001b[38;5;241m=\u001b[39m arr\u001b[38;5;241m.\u001b[39mshape[\u001b[43mmu\u001b[49m\u001b[38;5;241;43m.\u001b[39;49m\u001b[43mnormalize_axis_index\u001b[49m\u001b[43m(\u001b[49m\u001b[43max\u001b[49m\u001b[43m,\u001b[49m\u001b[43m \u001b[49m\u001b[43marr\u001b[49m\u001b[38;5;241;43m.\u001b[39;49m\u001b[43mndim\u001b[49m\u001b[43m)\u001b[49m]\n\u001b[1;32m     77\u001b[0m     items \u001b[38;5;241m=\u001b[39m nt\u001b[38;5;241m.\u001b[39mintp(items)\n\u001b[1;32m     78\u001b[0m \u001b[38;5;28;01melse\u001b[39;00m:\n\u001b[1;32m     79\u001b[0m     \u001b[38;5;66;03m# TODO: Optimize case when `where` is broadcast along a non-reduction\u001b[39;00m\n\u001b[1;32m     80\u001b[0m     \u001b[38;5;66;03m# axis and full sum is more excessive than needed.\u001b[39;00m\n\u001b[1;32m     81\u001b[0m \n\u001b[1;32m     82\u001b[0m     \u001b[38;5;66;03m# guarded to protect circular imports\u001b[39;00m\n",
      "\u001b[0;31mTypeError\u001b[0m: 'str' object cannot be interpreted as an integer"
     ]
    }
   ],
   "source": [
    "mean_temp = np.mean(\"21\", \"43\", \"65\")"
   ]
  },
  {
   "cell_type": "code",
   "execution_count": null,
   "id": "2e091637-9f02-4033-958b-9d0c5c655560",
   "metadata": {},
   "outputs": [],
   "source": [
    "for x in range(5, 10):\n",
    "if x >= 8: \n",
    "    print(x ** 2)"
   ]
  },
  {
   "cell_type": "markdown",
   "id": "c7d8a6b7-403c-4710-8141-531cedc295c2",
   "metadata": {},
   "source": [
    "2. Create a function to convert from Kelvin to Fahrenheit and test that it works."
   ]
  },
  {
   "cell_type": "code",
   "execution_count": 95,
   "id": "cd3319d9-09bc-42fc-8a42-c77c5fd5aa26",
   "metadata": {},
   "outputs": [],
   "source": [
    "# your code here\n"
   ]
  },
  {
   "cell_type": "markdown",
   "id": "fea4a756-9429-4dd4-a274-94846b011874",
   "metadata": {},
   "source": [
    "3. Write a control flow to determine which of the 3 lists has the highest median value and print the result (there are numerous ways to accomplish this). The `np.median()` function will likely be useful."
   ]
  },
  {
   "cell_type": "code",
   "execution_count": 90,
   "id": "313a8237-aeeb-4865-bcfe-10a3fdd930cb",
   "metadata": {},
   "outputs": [],
   "source": [
    "x, y, z = [1, 4, 7, 9, 56, 76], [-34, 75, 0, 67, 24, 22], [5, 33, 77, 129023, -12, 20]\n",
    "\n",
    "# your code here\n"
   ]
  },
  {
   "cell_type": "markdown",
   "id": "10022d20-bf26-4df0-9fe3-8cd4f291df69",
   "metadata": {},
   "source": [
    "4. Write a **function** to determine how many days had a low temperature less than or equal to 32 degrees, and apply it to the given array and demonstrate that it works correctly. The answer should be 9."
   ]
  },
  {
   "cell_type": "code",
   "execution_count": 96,
   "id": "8b6c392a-a763-486e-921b-fc78603bbbc3",
   "metadata": {},
   "outputs": [],
   "source": [
    "daily_low_temperatures = np.array([19, 29, 33, 34, 30, 32, 42, 40, 35, 25, 24, 19, 35, 26, 39, 21])\n",
    "\n",
    "# Your code below"
   ]
  },
  {
   "cell_type": "markdown",
   "id": "f5ca51b4-cba9-4e40-a0fc-6046e70a1185",
   "metadata": {},
   "source": [
    "5. Write a function called `calc_mean` to calculate (return) the mean of a list (or array) of numbers without using the `np.mean()` function.  Of course we would likely never use this in practice because numpy already supports it, but it is a useful excersize to understand what some of these functions might look like \"under the hood\".  The `len()` function will probably come in handy here."
   ]
  },
  {
   "cell_type": "code",
   "execution_count": 93,
   "id": "66d1cc43-f412-4681-9489-d2361278dba0",
   "metadata": {},
   "outputs": [],
   "source": [
    "# your code below\n"
   ]
  },
  {
   "cell_type": "code",
   "execution_count": null,
   "id": "a278cf6c-7be3-4ff1-ab5e-91ede82e23c6",
   "metadata": {},
   "outputs": [],
   "source": []
  }
 ],
 "metadata": {
  "kernelspec": {
   "display_name": "Python 3 (ipykernel)",
   "language": "python",
   "name": "python3"
  },
  "language_info": {
   "codemirror_mode": {
    "name": "ipython",
    "version": 3
   },
   "file_extension": ".py",
   "mimetype": "text/x-python",
   "name": "python",
   "nbconvert_exporter": "python",
   "pygments_lexer": "ipython3",
   "version": "3.10.8"
  }
 },
 "nbformat": 4,
 "nbformat_minor": 5
}
